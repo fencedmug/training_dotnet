{
 "cells": [
  {
   "attachments": {},
   "cell_type": "markdown",
   "metadata": {},
   "source": [
    "# Task examples"
   ]
  },
  {
   "cell_type": "markdown",
   "metadata": {},
   "source": [
    "Example to show that execution flow of non async tasks"
   ]
  },
  {
   "cell_type": "code",
   "execution_count": 7,
   "metadata": {
    "dotnet_interactive": {
     "language": "csharp"
    },
    "polyglot_notebook": {
     "kernelName": "csharp"
    },
    "vscode": {
     "languageId": "polyglot-notebook"
    }
   },
   "outputs": [
    {
     "name": "stdout",
     "output_type": "stream",
     "text": [
      "about to wait for 00:00:01\n",
      "about to wait for 00:00:01\n",
      "about to wait for 00:00:01\n",
      "Task.Run execution\n",
      "Task.Run execution\n",
      "Task.Run execution\n",
      "Current elapsed: 1006 ms\n",
      "Current elapsed: 1007 ms\n"
     ]
    }
   ],
   "source": [
    "using System.Threading;\n",
    "\n",
    "public static Task WaitSomeTime(TimeSpan time)\n",
    "{\n",
    "    Console.WriteLine($\"about to wait for {time}\");\n",
    "    return Task.Run(() => \n",
    "    {\n",
    "        Console.WriteLine(\"Task.Run execution\");\n",
    "        return Task.Delay(time);\n",
    "    });\n",
    "}\n",
    "\n",
    "var sw = new Stopwatch();\n",
    "sw.Start();\n",
    "\n",
    "var task1 = WaitSomeTime(TimeSpan.FromSeconds(1));\n",
    "var task2 = WaitSomeTime(TimeSpan.FromSeconds(1));\n",
    "var task3 = WaitSomeTime(TimeSpan.FromSeconds(1));\n",
    "await Task.Delay(TimeSpan.FromSeconds(1));\n",
    "Console.WriteLine($\"Current elapsed: {sw.ElapsedMilliseconds} ms\");\n",
    "\n",
    "await task1;\n",
    "await task2;\n",
    "await task3;\n",
    "Console.WriteLine($\"Current elapsed: {sw.ElapsedMilliseconds} ms\");\n"
   ]
  },
  {
   "cell_type": "markdown",
   "metadata": {},
   "source": [
    "Example showing execution flow with async tasks"
   ]
  },
  {
   "cell_type": "code",
   "execution_count": 9,
   "metadata": {
    "dotnet_interactive": {
     "language": "csharp"
    },
    "polyglot_notebook": {
     "kernelName": "csharp"
    },
    "vscode": {
     "languageId": "polyglot-notebook"
    }
   },
   "outputs": [
    {
     "name": "stdout",
     "output_type": "stream",
     "text": [
      "about to wait for 00:00:01\n",
      "about to wait for 00:00:01\n",
      "about to wait for 00:00:01\n",
      "Current elapsed: 0 ms\n",
      "done waiting\n",
      "done waiting\n",
      "done waiting\n",
      "Current elapsed: 1010 ms\n"
     ]
    }
   ],
   "source": [
    "public static async Task WaitSomeTimeAsync(TimeSpan time)\n",
    "{\n",
    "    Console.WriteLine($\"about to wait for {time}\");\n",
    "    await Task.Delay(time);\n",
    "    Console.WriteLine($\"done waiting\");\n",
    "}\n",
    "\n",
    "sw.Restart();\n",
    "\n",
    "task1 = WaitSomeTimeAsync(TimeSpan.FromSeconds(1));\n",
    "task2 = WaitSomeTimeAsync(TimeSpan.FromSeconds(1));\n",
    "task3 = WaitSomeTimeAsync(TimeSpan.FromSeconds(1));\n",
    "Console.WriteLine($\"Current elapsed: {sw.ElapsedMilliseconds} ms\");\n",
    "await Task.Delay(TimeSpan.FromSeconds(1.1));\n",
    "\n",
    "await task1;\n",
    "await task2;\n",
    "await task3;\n",
    "Console.WriteLine($\"Current elapsed: {sw.ElapsedMilliseconds} ms\");"
   ]
  }
 ],
 "metadata": {
  "kernelspec": {
   "display_name": ".NET (C#)",
   "language": "C#",
   "name": ".net-csharp"
  },
  "language_info": {
   "mimetype": "text/x-csharp",
   "name": "C#",
   "pygments_lexer": "csharp",
   "version": "8.0"
  },
  "polyglot_notebook": {
   "kernelInfo": {
    "defaultKernelName": "csharp",
    "items": [
     {
      "aliases": [],
      "languageName": "csharp",
      "name": "csharp"
     }
    ]
   }
  }
 },
 "nbformat": 4,
 "nbformat_minor": 2
}
