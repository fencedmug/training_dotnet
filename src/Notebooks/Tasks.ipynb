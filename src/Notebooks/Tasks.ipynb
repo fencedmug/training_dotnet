{
 "cells": [
  {
   "attachments": {},
   "cell_type": "markdown",
   "metadata": {},
   "source": [
    "# Task examples"
   ]
  },
  {
   "cell_type": "markdown",
   "metadata": {},
   "source": [
    "Example execution flow of non async tasks"
   ]
  },
  {
   "cell_type": "code",
   "execution_count": 17,
   "metadata": {
    "dotnet_interactive": {
     "language": "csharp"
    },
    "polyglot_notebook": {
     "kernelName": "csharp"
    },
    "vscode": {
     "languageId": "polyglot-notebook"
    }
   },
   "outputs": [
    {
     "name": "stdout",
     "output_type": "stream",
     "text": [
      "about to wait for 00:00:01\n",
      "about to wait for 00:00:01\n",
      "about to wait for 00:00:01\n",
      "Task.Run execution\n",
      "Task.Run execution\n",
      "Task.Run execution\n",
      "Current elapsed: 1003 ms\n",
      "Current elapsed: 1003 ms\n"
     ]
    }
   ],
   "source": [
    "using System.Threading;\n",
    "\n",
    "public static Task WaitSomeTime(int secs)\n",
    "{\n",
    "    TimeSpan time = TimeSpan.FromSeconds(secs);\n",
    "    Console.WriteLine($\"about to wait for {time}\");\n",
    "    return Task.Run(() => \n",
    "    {\n",
    "        Console.WriteLine(\"Task.Run execution\");\n",
    "        return Task.Delay(time);\n",
    "    });\n",
    "}\n",
    "\n",
    "var sw = new Stopwatch();\n",
    "sw.Start();\n",
    "\n",
    "var task1 = WaitSomeTime(1);\n",
    "var task2 = WaitSomeTime(1);\n",
    "var task3 = WaitSomeTime(1);\n",
    "await Task.Delay(TimeSpan.FromSeconds(1));\n",
    "Console.WriteLine($\"Current elapsed: {sw.ElapsedMilliseconds} ms\");\n",
    "\n",
    "await task1;\n",
    "await task2;\n",
    "await task3;\n",
    "Console.WriteLine($\"Current elapsed: {sw.ElapsedMilliseconds} ms\");"
   ]
  },
  {
   "cell_type": "markdown",
   "metadata": {},
   "source": [
    "Example execution flow with async tasks"
   ]
  },
  {
   "cell_type": "code",
   "execution_count": 18,
   "metadata": {
    "dotnet_interactive": {
     "language": "csharp"
    },
    "polyglot_notebook": {
     "kernelName": "csharp"
    },
    "vscode": {
     "languageId": "polyglot-notebook"
    }
   },
   "outputs": [
    {
     "name": "stdout",
     "output_type": "stream",
     "text": [
      "about to wait for 00:00:01\n",
      "about to wait for 00:00:01\n",
      "about to wait for 00:00:01\n",
      "done waiting\n",
      "done waiting\n",
      "done waiting\n",
      "Current elapsed: 5006 ms\n",
      "Current elapsed: 5006 ms\n"
     ]
    }
   ],
   "source": [
    "public static async Task WaitSomeTimeAsync(int secs)\n",
    "{\n",
    "    TimeSpan time = TimeSpan.FromSeconds(secs);\n",
    "    Console.WriteLine($\"about to wait for {time}\");\n",
    "    await Task.Delay(time);\n",
    "    Console.WriteLine($\"done waiting\");\n",
    "}\n",
    "\n",
    "sw.Restart();\n",
    "\n",
    "task1 = WaitSomeTimeAsync(1);\n",
    "task2 = WaitSomeTimeAsync(1);\n",
    "task3 = WaitSomeTimeAsync(1);\n",
    "await Task.Delay(TimeSpan.FromSeconds(5));\n",
    "Console.WriteLine($\"Current elapsed: {sw.ElapsedMilliseconds} ms\");\n",
    "\n",
    "await task1;\n",
    "await task2;\n",
    "await task3;\n",
    "Console.WriteLine($\"Current elapsed: {sw.ElapsedMilliseconds} ms\");"
   ]
  },
  {
   "cell_type": "markdown",
   "metadata": {},
   "source": [
    "Comparing with execution flow where we await every individual task\n",
    "\n",
    "This makes the sequence \"synchronous\""
   ]
  },
  {
   "cell_type": "code",
   "execution_count": 19,
   "metadata": {
    "dotnet_interactive": {
     "language": "csharp"
    },
    "polyglot_notebook": {
     "kernelName": "csharp"
    },
    "vscode": {
     "languageId": "polyglot-notebook"
    }
   },
   "outputs": [
    {
     "name": "stdout",
     "output_type": "stream",
     "text": [
      "about to wait for 00:00:01\n",
      "done waiting\n",
      "about to wait for 00:00:01\n",
      "done waiting\n",
      "about to wait for 00:00:01\n",
      "done waiting\n",
      "Current elapsed: 3028 ms\n"
     ]
    }
   ],
   "source": [
    "sw.Restart();\n",
    "\n",
    "await WaitSomeTimeAsync(1);\n",
    "await WaitSomeTimeAsync(1);\n",
    "await WaitSomeTimeAsync(1);\n",
    "Console.WriteLine($\"Current elapsed: {sw.ElapsedMilliseconds} ms\");"
   ]
  },
  {
   "cell_type": "markdown",
   "metadata": {},
   "source": [
    "Opinion: the advantage of async/await programming is to have concurrent tasks running.\n",
    "\n",
    "This allow us to maximise the number of executed tasks within a time frame\n",
    "\n",
    "Call async tasks before await each/every one of them"
   ]
  },
  {
   "cell_type": "code",
   "execution_count": 21,
   "metadata": {
    "dotnet_interactive": {
     "language": "csharp"
    },
    "polyglot_notebook": {
     "kernelName": "csharp"
    },
    "vscode": {
     "languageId": "polyglot-notebook"
    }
   },
   "outputs": [
    {
     "name": "stdout",
     "output_type": "stream",
     "text": [
      "about to wait for 00:00:00\n",
      "done waiting\n",
      "about to wait for 00:00:01\n",
      "about to wait for 00:00:02\n",
      "about to wait for 00:00:03\n",
      "about to wait for 00:00:04\n",
      "Current elapsed: 0 ms\n",
      "done waiting\n",
      "done waiting\n",
      "done waiting\n",
      "done waiting\n",
      "5 tasks have completed\n",
      "Current elapsed: 4014 ms\n"
     ]
    }
   ],
   "source": [
    "sw.Restart();\n",
    "\n",
    "var tasks = Enumerable.Range(0, 5).Select(x => WaitSomeTimeAsync(x)).ToList();\n",
    "Console.WriteLine($\"Current elapsed: {sw.ElapsedMilliseconds} ms\");\n",
    "\n",
    "await Task.WhenAll(tasks);\n",
    "Console.WriteLine($\"{tasks.Count} tasks have completed\");\n",
    "Console.WriteLine($\"Current elapsed: {sw.ElapsedMilliseconds} ms\");"
   ]
  }
 ],
 "metadata": {
  "kernelspec": {
   "display_name": ".NET (C#)",
   "language": "C#",
   "name": ".net-csharp"
  },
  "language_info": {
   "mimetype": "text/x-csharp",
   "name": "C#",
   "pygments_lexer": "csharp",
   "version": "8.0"
  },
  "polyglot_notebook": {
   "kernelInfo": {
    "defaultKernelName": "csharp",
    "items": [
     {
      "aliases": [],
      "languageName": "csharp",
      "name": "csharp"
     }
    ]
   }
  }
 },
 "nbformat": 4,
 "nbformat_minor": 2
}
