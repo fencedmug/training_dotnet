{
 "cells": [
  {
   "attachments": {},
   "cell_type": "markdown",
   "metadata": {},
   "source": [
    "# DateTime and DateTimeOffset Examples\n",
    "\n",
    "Explore how both objects are used."
   ]
  },
  {
   "cell_type": "code",
   "execution_count": 37,
   "metadata": {
    "dotnet_interactive": {
     "language": "csharp"
    },
    "polyglot_notebook": {
     "kernelName": "csharp"
    },
    "vscode": {
     "languageId": "polyglot-notebook"
    }
   },
   "outputs": [
    {
     "name": "stdout",
     "output_type": "stream",
     "text": [
      "          1/1/0001 12:00:00 AM   Unspecified                    0\n",
      "        12/31/9999 11:59:59 PM   Unspecified  3155378975999999999\n",
      "   1/1/0001 12:00:00 AM +00:00      00:00:00                    0\n",
      " 12/31/9999 11:59:59 PM +00:00      00:00:00  3155378975999999999\n"
     ]
    }
   ],
   "source": [
    "using System;\n",
    "using System.Globalization;\n",
    "\n",
    "// Helpers to print datetime\n",
    "const int c1 = 30;\n",
    "const int c2 = 13;\n",
    "const int c3 = 20;\n",
    "\n",
    "public void Print(DateTime dt)\n",
    "{\n",
    "    Console.WriteLine($\"{dt,c1} {dt.Kind, c2} {dt.Ticks, c3}\");\n",
    "}\n",
    "\n",
    "public void Print(DateTimeOffset dt)\n",
    "{\n",
    "    Console.WriteLine($\"{dt,c1} {dt.Offset, c2} {dt.Ticks, c3}\");\n",
    "}\n",
    "\n",
    "// This shows that MinValue and MaxValue are the same for both objects\n",
    "Print(DateTime.MinValue);\n",
    "Print(DateTime.MaxValue);\n",
    "Print(DateTimeOffset.MinValue);\n",
    "Print(DateTimeOffset.MaxValue);\n"
   ]
  },
  {
   "cell_type": "markdown",
   "metadata": {},
   "source": [
    "Let's understand conversion between these two objects"
   ]
  },
  {
   "cell_type": "code",
   "execution_count": 38,
   "metadata": {
    "dotnet_interactive": {
     "language": "csharp"
    },
    "polyglot_notebook": {
     "kernelName": "csharp"
    },
    "vscode": {
     "languageId": "polyglot-notebook"
    }
   },
   "outputs": [
    {
     "name": "stdout",
     "output_type": "stream",
     "text": [
      "          8/13/2023 1:35:56 PM           Utc   638275305566318348\n",
      "   8/13/2023 1:35:56 PM +00:00      00:00:00   638275305566318348\n"
     ]
    }
   ],
   "source": [
    "// This shows when converted, the number of ticks are still the same\n",
    "var utcNow = DateTime.UtcNow;\n",
    "Print(utcNow);\n",
    "Print(new DateTimeOffset(utcNow));"
   ]
  },
  {
   "cell_type": "code",
   "execution_count": 39,
   "metadata": {
    "dotnet_interactive": {
     "language": "csharp"
    },
    "polyglot_notebook": {
     "kernelName": "csharp"
    },
    "vscode": {
     "languageId": "polyglot-notebook"
    }
   },
   "outputs": [
    {
     "ename": "Error",
     "evalue": "System.ArgumentException: The UTC Offset for Utc DateTime instances must be 0. (Parameter 'offset')\r\n   at System.DateTimeOffset..ctor(DateTime dateTime, TimeSpan offset)\r\n   at Submission#40.<<Initialize>>d__0.MoveNext()\r\n--- End of stack trace from previous location ---\r\n   at Microsoft.CodeAnalysis.Scripting.ScriptExecutionState.RunSubmissionsAsync[TResult](ImmutableArray`1 precedingExecutors, Func`2 currentExecutor, StrongBox`1 exceptionHolderOpt, Func`2 catchExceptionOpt, CancellationToken cancellationToken)",
     "output_type": "error",
     "traceback": [
      "System.ArgumentException: The UTC Offset for Utc DateTime instances must be 0. (Parameter 'offset')\r\n",
      "   at System.DateTimeOffset..ctor(DateTime dateTime, TimeSpan offset)\r\n",
      "   at Submission#40.<<Initialize>>d__0.MoveNext()\r\n",
      "--- End of stack trace from previous location ---\r\n",
      "   at Microsoft.CodeAnalysis.Scripting.ScriptExecutionState.RunSubmissionsAsync[TResult](ImmutableArray`1 precedingExecutors, Func`2 currentExecutor, StrongBox`1 exceptionHolderOpt, Func`2 catchExceptionOpt, CancellationToken cancellationToken)"
     ]
    }
   ],
   "source": [
    "// This shows we can only convert to DateTimeOffset with the same UTC offset \n",
    "// this example here will throw exception\n",
    "utcNow = DateTime.UtcNow;\n",
    "var offsetNow = new DateTimeOffset(utcNow, TimeSpan.FromHours(10));\n",
    "Print(utcNow);\n",
    "Print(offsetNow);"
   ]
  },
  {
   "cell_type": "code",
   "execution_count": 40,
   "metadata": {
    "dotnet_interactive": {
     "language": "csharp"
    },
    "polyglot_notebook": {
     "kernelName": "csharp"
    },
    "vscode": {
     "languageId": "polyglot-notebook"
    }
   },
   "outputs": [
    {
     "name": "stdout",
     "output_type": "stream",
     "text": [
      "          8/13/2023 1:35:56 PM           Utc   638275305568532521\n",
      "   8/13/2023 1:35:56 PM +00:00      00:00:00   638275305568532521\n"
     ]
    }
   ],
   "source": [
    "// No exceptions when we use an offset of 0\n",
    "utcNow = DateTime.UtcNow;\n",
    "var offsetNow = new DateTimeOffset(utcNow, TimeSpan.FromHours(0));\n",
    "Print(utcNow);\n",
    "Print(offsetNow);"
   ]
  },
  {
   "cell_type": "markdown",
   "metadata": {},
   "source": [
    "It is important to take note of DateTimeKind when creating a new DateTime (new/from/parse)\n",
    "\n",
    "Conversion to DateTimeOffset can trigger fundamental changes when DateTimeKind is not Unspecified"
   ]
  },
  {
   "cell_type": "code",
   "execution_count": 51,
   "metadata": {
    "dotnet_interactive": {
     "language": "csharp"
    },
    "polyglot_notebook": {
     "kernelName": "csharp"
    },
    "vscode": {
     "languageId": "polyglot-notebook"
    }
   },
   "outputs": [
    {
     "name": "stdout",
     "output_type": "stream",
     "text": [
      "          8/15/2020 2:00:00 PM   Unspecified   637330968000000000\n",
      "          8/15/2020 2:00:00 PM   Unspecified   637330968000000000\n",
      "          8/13/2023 9:41:32 PM         Local   638275596928386917\n",
      "   8/15/2020 2:00:00 PM +13:00      13:00:00   637330968000000000\n",
      "   8/15/2020 2:00:00 PM +13:00      13:00:00   637330968000000000\n",
      "   8/15/2020 2:00:00 PM +03:00      03:00:00   637330968000000000\n",
      "   8/15/2020 2:00:00 PM +03:00      03:00:00   637330968000000000\n",
      "   8/15/2020 2:00:00 PM +09:00      09:00:00   637330968000000000\n",
      "   8/15/2020 2:00:00 PM +09:00      09:00:00   637330968000000000\n",
      "   8/13/2023 9:41:32 PM +08:00      08:00:00   638275596928386917\n"
     ]
    }
   ],
   "source": [
    "var datetimeStr = \"15/08/2020 2:00:00 PM\";\n",
    "\n",
    "var dt1 = new DateTime(2020, 08, 15, 14, 00, 00);\n",
    "var dt2 = DateTime.ParseExact(datetimeStr, \"dd/MM/yyyy h:mm:ss tt\", CultureInfo.InvariantCulture);\n",
    "var dt3 = DateTime.Now;\n",
    "Print(dt1);\n",
    "Print(dt2);\n",
    "Print(dt3); //only this is local\n",
    "\n",
    "// converting to another offset\n",
    "Print(new DateTimeOffset(dt1, TimeSpan.FromHours(13))); // no. of ticks don't change\n",
    "Print(new DateTimeOffset(dt2, TimeSpan.FromHours(13)));\n",
    "Print(new DateTimeOffset(dt1, TimeSpan.FromHours(03))); // no. of ticks don't change\n",
    "Print(new DateTimeOffset(dt2, TimeSpan.FromHours(03)));\n",
    "Print(new DateTimeOffset(dt1, TimeSpan.FromHours(09))); // no. of ticks don't change\n",
    "Print(new DateTimeOffset(dt2, TimeSpan.FromHours(09)));\n",
    "Print(new DateTimeOffset(dt3, DateTimeOffset.Now.Offset)); \n",
    "// when DateTime.Unspecified, we can freely change to any offset without ticks changing\n",
    "// the datetime component is preserved perfectly\n"
   ]
  },
  {
   "cell_type": "markdown",
   "metadata": {},
   "source": [
    "DateTime's DateTimeKind conversion"
   ]
  },
  {
   "cell_type": "code",
   "execution_count": 55,
   "metadata": {
    "dotnet_interactive": {
     "language": "csharp"
    },
    "polyglot_notebook": {
     "kernelName": "csharp"
    },
    "vscode": {
     "languageId": "polyglot-notebook"
    }
   },
   "outputs": [
    {
     "name": "stdout",
     "output_type": "stream",
     "text": [
      "         8/13/2023 10:02:38 PM         Local   638275609588139240\n",
      "          8/13/2023 2:02:38 PM           Utc   638275321588139240\n",
      "         8/13/2023 10:02:38 PM   Unspecified   638275609588160802\n",
      "          8/14/2023 6:02:38 AM         Local   638275897588160802\n",
      "          8/13/2023 2:02:38 PM           Utc   638275321588160802\n",
      "          8/13/2023 2:02:38 PM   Unspecified   638275321588166202\n",
      "         8/13/2023 10:02:38 PM         Local   638275609588166202\n",
      "          8/13/2023 6:02:38 AM           Utc   638275033588166202\n"
     ]
    }
   ],
   "source": [
    "dt1 = DateTime.Now;\n",
    "// local to utc will preserve ticks\n",
    "Print(dt1);\n",
    "Print(dt1.ToUniversalTime());\n",
    "\n",
    "// from unspecified to local/utc will not preserve ticks\n",
    "dt1 = DateTime.SpecifyKind(DateTime.Now, DateTimeKind.Unspecified);\n",
    "Print(dt1);\n",
    "Print(dt1.ToLocalTime());\n",
    "Print(dt1.ToUniversalTime());\n",
    "\n",
    "// will not end up with same result as above, this shows the importance of DateTimeKind\n",
    "dt1 = DateTime.SpecifyKind(DateTime.UtcNow, DateTimeKind.Unspecified);\n",
    "Print(dt1);\n",
    "Print(dt1.ToLocalTime());\n",
    "Print(dt1.ToUniversalTime());\n"
   ]
  },
  {
   "cell_type": "markdown",
   "metadata": {},
   "source": [
    "Converting DateTime.Now to DateTimeOffset will never be 100% safe.\n",
    "\n",
    "Because DateTime.Now defaults to DateTimeKind.Local and if the OS/Container does not adjust to correct timezone then you will end up with issues.\n",
    "\n",
    "i.e. var offset = new DateTimeOffset(DateTime.Now, TimeSpan.FromHours(8)); --> this will not work if OS/Container defaulted to UTC timezone.\n",
    "\n",
    "you can try new DateTimeOffset(DateTime.Now, DateTimeOffset.Now.Offset); --> won't throw but you will still end up with wrong offset.\n",
    "\n",
    "This is also a problem when you are running dotnet test in pipelines, the running container may not be configured to your timezone offset."
   ]
  },
  {
   "cell_type": "code",
   "execution_count": 57,
   "metadata": {
    "dotnet_interactive": {
     "language": "csharp"
    },
    "polyglot_notebook": {
     "kernelName": "csharp"
    },
    "vscode": {
     "languageId": "polyglot-notebook"
    }
   },
   "outputs": [
    {
     "name": "stdout",
     "output_type": "stream",
     "text": [
      "  8/13/2023 10:13:45 PM +08:00      08:00:00   638275616255802312\n",
      "  8/13/2023 10:13:45 PM +08:00      08:00:00   638275616255805871\n"
     ]
    }
   ],
   "source": [
    "// Consider the source of your datetime.\n",
    "// in this instance we assume it's the system clock\n",
    "\n",
    "// first way; this may look dumb but it's safe if somehow you need to start with DateTime so start with UtcNow\n",
    "var ddt1 = DateTime.UtcNow;\n",
    "var ddto1 = new DateTimeOffset(ddt1, TimeSpan.FromHours(0));\n",
    "var final = ddto1.ToOffset(TimeSpan.FromHours(8));\n",
    "Print(final);\n",
    "\n",
    "// second way; directly use DateTimeOffset would be more straightforward\n",
    "ddto1 = DateTimeOffset.UtcNow;\n",
    "final = ddto1.ToOffset(TimeSpan.FromHours(8));\n",
    "Print(final);\n",
    "\n"
   ]
  },
  {
   "cell_type": "markdown",
   "metadata": {},
   "source": [
    "Any time you need a timezone offset, just go straight with DateTimeOffset.\n",
    "\n",
    "Any use of DateTime would most likely cause issues downstream.\n",
    "\n",
    "Always test your code with different system clock, this will help you understand if code is vulnerable to system clock changes."
   ]
  }
 ],
 "metadata": {
  "kernelspec": {
   "display_name": ".NET (C#)",
   "language": "C#",
   "name": ".net-csharp"
  },
  "language_info": {
   "mimetype": "text/x-csharp",
   "name": "C#",
   "pygments_lexer": "csharp",
   "version": "8.0"
  },
  "polyglot_notebook": {
   "kernelInfo": {
    "defaultKernelName": "csharp",
    "items": [
     {
      "aliases": [],
      "languageName": "csharp",
      "name": "csharp"
     }
    ]
   }
  }
 },
 "nbformat": 4,
 "nbformat_minor": 2
}
