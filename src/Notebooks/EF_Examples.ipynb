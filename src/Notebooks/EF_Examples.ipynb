{
 "cells": [
  {
   "attachments": {},
   "cell_type": "markdown",
   "metadata": {},
   "source": [
    "# Entity Framework Core Examples\n",
    "\n",
    "Making use of notebooks to printout sql queries formed by EF.\n",
    "\n",
    "Issues:\n",
    "- \"using var ctx...\" gives error when \"using\" is used"
   ]
  },
  {
   "cell_type": "code",
   "execution_count": 21,
   "metadata": {
    "dotnet_interactive": {
     "language": "csharp"
    },
    "polyglot_notebook": {
     "kernelName": "csharp"
    }
   },
   "outputs": [
    {
     "data": {
      "text/html": [
       "<div><div></div><div></div><div><strong>Installed Packages</strong><ul><li><span>Microsoft.EntityFrameworkCore.SqlServer, 7.0.5</span></li></ul></div></div>"
      ]
     },
     "metadata": {},
     "output_type": "display_data"
    }
   ],
   "source": [
    "#r \"nuget: Microsoft.EntityFrameworkCore.SqlServer, 7.0.5\"\n",
    "\n",
    "using Microsoft.EntityFrameworkCore;\n",
    "using System;\n",
    "\n",
    "public class ItemContext : DbContext\n",
    "{\n",
    "\tpublic DbSet<Item> Items { get; set; }\n",
    "\tpublic DbSet<Tag> Tags { get; set; }\n",
    "\n",
    "\tprotected override void OnConfiguring(DbContextOptionsBuilder optionsBuilder)\n",
    "\t{\n",
    "\t\toptionsBuilder.UseSqlServer(\"Server=(localdb)\\\\MSSQLLocalDB;Database=SomeDbName;Trusted_Connection=True\");\n",
    "\t}\n",
    "}\n",
    "\n",
    "public class Item\n",
    "{\n",
    "\tpublic int Id { get; set; }\n",
    "\tpublic string Name { get; set; } = string.Empty;\n",
    "\tpublic string Status { get; set; } = string.Empty;\n",
    "\tpublic int SomeId { get; set; }\n",
    "\tpublic DateTimeOffset Created { get; set; }\n",
    "\tpublic string EnumValue { get; set; } = string.Empty;\n",
    "}\n",
    "\n",
    "public class Tag\n",
    "{\n",
    "\tpublic int Id { get; set; }\n",
    "\tpublic string Name { get; set; } = string.Empty;\n",
    "\tpublic string Value { get; set; } = string.Empty;\n",
    "}"
   ]
  },
  {
   "attachments": {},
   "cell_type": "markdown",
   "metadata": {},
   "source": [
    "### SELECT queries"
   ]
  },
  {
   "cell_type": "code",
   "execution_count": 22,
   "metadata": {
    "dotnet_interactive": {
     "language": "csharp"
    },
    "polyglot_notebook": {
     "kernelName": "csharp"
    }
   },
   "outputs": [
    {
     "name": "stdout",
     "output_type": "stream",
     "text": [
      "DECLARE @__itemId_0 int = 10;\r\n",
      "\r\n",
      "SELECT [i].[Id], [i].[Created], [i].[EnumValue], [i].[Name], [i].[SomeId], [i].[Status]\r\n",
      "FROM [Items] AS [i]\r\n",
      "WHERE [i].[Id] > @__itemId_0\r\n"
     ]
    }
   ],
   "source": [
    "var ctx = new ItemContext();\n",
    "IQueryable<Item> query = ctx.Items;\n",
    "\n",
    "// as long as we do not call ToList or FirstOrDefault\n",
    "// the following LINQ will not attempt to establish\n",
    "// connection to database defined in connection string\n",
    "\n",
    "var itemId = 10;\n",
    "query = ctx.Items.Where(item => item.Id > itemId);\n",
    "Console.WriteLine(query.ToQueryString());"
   ]
  },
  {
   "cell_type": "code",
   "execution_count": 23,
   "metadata": {
    "dotnet_interactive": {
     "language": "csharp"
    },
    "polyglot_notebook": {
     "kernelName": "csharp"
    }
   },
   "outputs": [
    {
     "name": "stdout",
     "output_type": "stream",
     "text": [
      "SELECT [i].[Id], [i].[Created], [i].[EnumValue], [i].[Name], [i].[SomeId], [i].[Status]\r\n",
      "FROM [Items] AS [i]\r\n",
      "WHERE [i].[Id] > 10\r\n"
     ]
    }
   ],
   "source": [
    "// when we use raw values in the expression, we do not get parameterized queries\n",
    "// compare with the following:\n",
    "query = ctx.Items.Where(item => item.Id > 10);\n",
    "Console.WriteLine(query.ToQueryString());"
   ]
  },
  {
   "cell_type": "code",
   "execution_count": 24,
   "metadata": {
    "dotnet_interactive": {
     "language": "csharp"
    },
    "polyglot_notebook": {
     "kernelName": "csharp"
    }
   },
   "outputs": [
    {
     "name": "stdout",
     "output_type": "stream",
     "text": [
      "DECLARE @__nameToMatch_0 nvarchar(4000) = N'HELLO WORLD';\r\n",
      "\r\n",
      "SELECT [i].[Id], [i].[Created], [i].[EnumValue], [i].[Name], [i].[SomeId], [i].[Status]\r\n",
      "FROM [Items] AS [i]\r\n",
      "WHERE (@__nameToMatch_0 LIKE N'') OR CHARINDEX(@__nameToMatch_0, UPPER([i].[Name])) > 0\r\n"
     ]
    }
   ],
   "source": [
    "var nameToMatch = \"HELLO WORLD\";\n",
    "query = ctx.Items.Where(item => item.Name.ToUpper().Contains(nameToMatch));\n",
    "Console.WriteLine(query.ToQueryString());"
   ]
  },
  {
   "cell_type": "code",
   "execution_count": 25,
   "metadata": {
    "dotnet_interactive": {
     "language": "csharp"
    },
    "polyglot_notebook": {
     "kernelName": "csharp"
    }
   },
   "outputs": [
    {
     "name": "stdout",
     "output_type": "stream",
     "text": [
      "DECLARE @___itemId_0 int = 10;\r\n",
      "\r\n",
      "SELECT [i].[Id], [i].[Created], [i].[EnumValue], [i].[Name], [i].[SomeId], [i].[Status]\r\n",
      "FROM [Items] AS [i]\r\n",
      "WHERE [i].[Created] < CAST(GETDATE() AS datetimeoffset) AND [i].[Id] = @___itemId_0\r\n"
     ]
    }
   ],
   "source": [
    "query = ctx.Items.Where(item => item.Created < DateTime.Now && item.Id == itemId);\n",
    "Console.WriteLine(query.ToQueryString());"
   ]
  },
  {
   "cell_type": "code",
   "execution_count": 26,
   "metadata": {
    "dotnet_interactive": {
     "language": "csharp"
    },
    "polyglot_notebook": {
     "kernelName": "csharp"
    }
   },
   "outputs": [
    {
     "name": "stdout",
     "output_type": "stream",
     "text": [
      "SELECT [i].[Id], [i].[Created], [i].[EnumValue], [i].[Name], [i].[SomeId], [i].[Status]\r\n",
      "FROM [Items] AS [i]\r\n",
      "WHERE [i].[Created] < CAST(GETDATE() AS datetimeoffset) AND [i].[Id] = 300\r\n"
     ]
    }
   ],
   "source": [
    "// break up Where clauses -> doesn't seem to affect SQL generated\n",
    "query = ctx.Items.Where(item => item.Created < DateTime.Now).Where(item => item.Id == 300);\n",
    "Console.WriteLine(query.ToQueryString());"
   ]
  }
 ],
 "metadata": {
  "kernelspec": {
   "display_name": ".NET (C#)",
   "language": "C#",
   "name": ".net-csharp"
  },
  "language_info": {
   "name": "polyglot-notebook"
  },
  "polyglot_notebook": {
   "kernelInfo": {
    "defaultKernelName": "csharp",
    "items": [
     {
      "aliases": [],
      "languageName": "csharp",
      "name": "csharp"
     }
    ]
   }
  }
 },
 "nbformat": 4,
 "nbformat_minor": 2
}
