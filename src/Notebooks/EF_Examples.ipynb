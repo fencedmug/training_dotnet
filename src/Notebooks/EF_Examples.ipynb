{
 "cells": [
  {
   "attachments": {},
   "cell_type": "markdown",
   "metadata": {},
   "source": [
    "# Entity Framework Core Examples\n",
    "\n",
    "Making use of notebooks to printout sql queries formed by EF\n",
    "When in doubt, make use of notebook to create EF expression and print out the query string.\n",
    "This can help when you need to optimize the query for performance.\n",
    "\n",
    "Issues:\n",
    "- \"using var ctx...\" gives error when \"using\" is used"
   ]
  },
  {
   "cell_type": "code",
   "execution_count": 58,
   "metadata": {
    "dotnet_interactive": {
     "language": "csharp"
    },
    "polyglot_notebook": {
     "kernelName": "csharp"
    }
   },
   "outputs": [
    {
     "data": {
      "text/html": [
       "<div><div></div><div></div><div><strong>Installed Packages</strong><ul><li><span>Microsoft.EntityFrameworkCore.SqlServer, 7.0.5</span></li></ul></div></div>"
      ]
     },
     "metadata": {},
     "output_type": "display_data"
    }
   ],
   "source": [
    "#r \"nuget: Microsoft.EntityFrameworkCore.SqlServer, 7.0.5\"\n",
    "\n",
    "using Microsoft.EntityFrameworkCore;\n",
    "using System;\n",
    "\n",
    "public class ItemContext : DbContext\n",
    "{\n",
    "\tpublic DbSet<Item> Items { get; set; }\n",
    "\tpublic DbSet<Tag> Tags { get; set; }\n",
    "\n",
    "\tprotected override void OnConfiguring(DbContextOptionsBuilder optionsBuilder)\n",
    "\t{\n",
    "\t\t// use a valid connection string here so the parser doesn't complain\n",
    "\t\toptionsBuilder.UseSqlServer(\"Server=(localdb)\\\\MSSQLLocalDB;Database=SomeDbName;Trusted_Connection=True\");\n",
    "\t}\n",
    "}\n",
    "\n",
    "public class Item\n",
    "{\n",
    "\tpublic int Id { get; set; }\n",
    "\tpublic string Name { get; set; } = string.Empty;\n",
    "\tpublic string Status { get; set; } = string.Empty;\n",
    "\tpublic int SomeId { get; set; }\n",
    "\tpublic DateTimeOffset Created { get; set; }\n",
    "\tpublic string EnumValue { get; set; } = string.Empty;\n",
    "}\n",
    "\n",
    "public class Tag\n",
    "{\n",
    "\tpublic int Id { get; set; }\n",
    "\tpublic string Name { get; set; } = string.Empty;\n",
    "\tpublic string Value { get; set; } = string.Empty;\n",
    "}"
   ]
  },
  {
   "attachments": {},
   "cell_type": "markdown",
   "metadata": {},
   "source": [
    "<br><br><br><br>"
   ]
  },
  {
   "attachments": {},
   "cell_type": "markdown",
   "metadata": {},
   "source": [
    "## SELECT \n",
    "Examples to show how EF forms SQL queries"
   ]
  },
  {
   "cell_type": "code",
   "execution_count": 59,
   "metadata": {
    "dotnet_interactive": {
     "language": "csharp"
    },
    "polyglot_notebook": {
     "kernelName": "csharp"
    }
   },
   "outputs": [
    {
     "name": "stdout",
     "output_type": "stream",
     "text": [
      "DECLARE @__itemId_0 int = 10;\r\n",
      "\r\n",
      "SELECT [i].[Id], [i].[Created], [i].[EnumValue], [i].[Name], [i].[SomeId], [i].[Status]\r\n",
      "FROM [Items] AS [i]\r\n",
      "WHERE [i].[Id] > @__itemId_0\r\n"
     ]
    }
   ],
   "source": [
    "var ctx = new ItemContext();\n",
    "IQueryable<Item> query = ctx.Items;\n",
    "\n",
    "// as long as we do not call ToList or FirstOrDefault\n",
    "// the following LINQ will not attempt to establish\n",
    "// connection to database defined in connection string\n",
    "\n",
    "var itemId = 10;\n",
    "query = ctx.Items.Where(item => item.Id > itemId);\n",
    "Console.WriteLine(query.ToQueryString());"
   ]
  },
  {
   "cell_type": "code",
   "execution_count": 60,
   "metadata": {
    "dotnet_interactive": {
     "language": "csharp"
    },
    "polyglot_notebook": {
     "kernelName": "csharp"
    }
   },
   "outputs": [
    {
     "name": "stdout",
     "output_type": "stream",
     "text": [
      "SELECT [i].[Id], [i].[Created], [i].[EnumValue], [i].[Name], [i].[SomeId], [i].[Status]\r\n",
      "FROM [Items] AS [i]\r\n",
      "WHERE [i].[Id] > 10\r\n"
     ]
    }
   ],
   "source": [
    "// when we use raw values in the expression, we do not get parameterized queries\n",
    "// compare with the following:\n",
    "query = ctx.Items.Where(item => item.Id > 10);\n",
    "Console.WriteLine(query.ToQueryString());"
   ]
  },
  {
   "cell_type": "code",
   "execution_count": 61,
   "metadata": {
    "dotnet_interactive": {
     "language": "csharp"
    },
    "polyglot_notebook": {
     "kernelName": "csharp"
    }
   },
   "outputs": [
    {
     "name": "stdout",
     "output_type": "stream",
     "text": [
      "DECLARE @__nameToMatch_0 nvarchar(4000) = N'HELLO WORLD';\r\n",
      "\r\n",
      "SELECT [i].[Id], [i].[Created], [i].[EnumValue], [i].[Name], [i].[SomeId], [i].[Status]\r\n",
      "FROM [Items] AS [i]\r\n",
      "WHERE (@__nameToMatch_0 LIKE N'') OR CHARINDEX(@__nameToMatch_0, UPPER([i].[Name])) > 0\r\n"
     ]
    }
   ],
   "source": [
    "var nameToMatch = \"HELLO WORLD\";\n",
    "query = ctx.Items.Where(item => item.Name.ToUpper().Contains(nameToMatch));\n",
    "Console.WriteLine(query.ToQueryString());"
   ]
  },
  {
   "cell_type": "code",
   "execution_count": 62,
   "metadata": {
    "dotnet_interactive": {
     "language": "csharp"
    },
    "polyglot_notebook": {
     "kernelName": "csharp"
    }
   },
   "outputs": [
    {
     "name": "stdout",
     "output_type": "stream",
     "text": [
      "DECLARE @___itemId_0 int = 10;\r\n",
      "\r\n",
      "SELECT [i].[Id], [i].[Created], [i].[EnumValue], [i].[Name], [i].[SomeId], [i].[Status]\r\n",
      "FROM [Items] AS [i]\r\n",
      "WHERE [i].[Created] < CAST(GETDATE() AS datetimeoffset) AND [i].[Id] = @___itemId_0\r\n"
     ]
    }
   ],
   "source": [
    "query = ctx.Items.Where(item => item.Created < DateTime.Now && item.Id == itemId);\n",
    "Console.WriteLine(query.ToQueryString());"
   ]
  },
  {
   "cell_type": "code",
   "execution_count": 63,
   "metadata": {
    "dotnet_interactive": {
     "language": "csharp"
    },
    "polyglot_notebook": {
     "kernelName": "csharp"
    }
   },
   "outputs": [
    {
     "name": "stdout",
     "output_type": "stream",
     "text": [
      "SELECT [i].[Id], [i].[Created], [i].[EnumValue], [i].[Name], [i].[SomeId], [i].[Status]\r\n",
      "FROM [Items] AS [i]\r\n",
      "WHERE [i].[Created] < CAST(GETDATE() AS datetimeoffset) AND [i].[Id] = 300\r\n"
     ]
    }
   ],
   "source": [
    "// break up Where clauses -> doesn't seem to affect SQL generated\n",
    "query = ctx.Items.Where(item => item.Created < DateTime.Now).Where(item => item.Id == 300);\n",
    "Console.WriteLine(query.ToQueryString());"
   ]
  },
  {
   "attachments": {},
   "cell_type": "markdown",
   "metadata": {},
   "source": [
    "This example shows why it's a bad idea to use a large collection with Contains(...)"
   ]
  },
  {
   "cell_type": "code",
   "execution_count": 64,
   "metadata": {
    "dotnet_interactive": {
     "language": "csharp"
    },
    "polyglot_notebook": {
     "kernelName": "csharp"
    }
   },
   "outputs": [
    {
     "name": "stdout",
     "output_type": "stream",
     "text": [
      "SELECT [i].[Id], [i].[Created], [i].[EnumValue], [i].[Name], [i].[SomeId], [i].[Status]\r\n",
      "FROM [Items] AS [i]\r\n",
      "WHERE [i].[Name] IN (N'1', N'2', N'3', N'4', N'5', N'6', N'7', N'8', N'9', N'10', N'11', N'12', N'13', N'14', N'15', N'16', N'17', N'18', N'19', N'20')\r\n"
     ]
    }
   ],
   "source": [
    "var list = Enumerable.Range(1, 20).Select(x => x.ToString());\n",
    "query = ctx.Items.Where(item => list.Contains(item.Name));\n",
    "Console.WriteLine(query.ToQueryString());"
   ]
  },
  {
   "attachments": {},
   "cell_type": "markdown",
   "metadata": {},
   "source": [
    "<br><br><br><br>"
   ]
  },
  {
   "attachments": {},
   "cell_type": "markdown",
   "metadata": {},
   "source": [
    "## SELECT + DISTINCT + ORDER BY"
   ]
  },
  {
   "cell_type": "code",
   "execution_count": 65,
   "metadata": {
    "dotnet_interactive": {
     "language": "csharp"
    },
    "polyglot_notebook": {
     "kernelName": "csharp"
    }
   },
   "outputs": [
    {
     "name": "stdout",
     "output_type": "stream",
     "text": [
      "Wrong ORDER BY + DISTINCT -- the ORDER BY is missing in SQL query\n",
      "SELECT DISTINCT [i].[Name], [i].[Created]\n",
      "FROM [Items] AS [i]\n",
      "\n",
      "Correct DISTINCT + ORDER BY -- looks more complicated but ORDER BY is observed in SQL query\n",
      "SELECT [t].[Name], [t].[Created]\n",
      "FROM (\n",
      "    SELECT DISTINCT [i].[Name], [i].[Created]\n",
      "    FROM [Items] AS [i]\n",
      ") AS [t]\n",
      "ORDER BY [t].[Created]\n"
     ]
    }
   ],
   "source": [
    "// if we have logging framework added, entity framework\n",
    "// will complain about the calling order of Distinct + OrderBy\n",
    "// the generated query will not show \"ORDER BY\"\n",
    "var wrongQuery = ctx.Items\n",
    "    .Select(item => new { item.Name, item.Created })\n",
    "    .OrderBy(it => it.Created)\n",
    "    .Distinct();\n",
    "\n",
    "Console.WriteLine(\"Wrong ORDER BY + DISTINCT -- the ORDER BY is missing in SQL query\");\n",
    "Console.WriteLine(wrongQuery.ToQueryString());\n",
    "Console.WriteLine();\n",
    "\n",
    "// the SQL generated will show \"ORDER BY\" but\n",
    "// as of Mar 2023, the generated SQL doesn't seem to be \"right\"\n",
    "// the following would look more \"right\"\n",
    "// SELECT DISTINCT ...\n",
    "// FROM TABLE\n",
    "// ORDER BY Created\n",
    "var correctQuery = ctx.Items\n",
    "    .Select(item => new { item.Name, item.Created })\n",
    "    .Distinct()\n",
    "    .OrderBy(it => it.Created);\n",
    "\n",
    "Console.WriteLine(\"Correct DISTINCT + ORDER BY -- looks more complicated but ORDER BY is observed in SQL query\");\n",
    "Console.WriteLine(correctQuery.ToQueryString());\n"
   ]
  },
  {
   "cell_type": "code",
   "execution_count": 66,
   "metadata": {
    "dotnet_interactive": {
     "language": "csharp"
    },
    "polyglot_notebook": {
     "kernelName": "csharp"
    }
   },
   "outputs": [
    {
     "name": "stdout",
     "output_type": "stream",
     "text": [
      "SELECT [i].[Id], [i].[Created], [i].[EnumValue], [i].[Name], [i].[SomeId], [i].[Status]\r\n",
      "FROM [Items] AS [i]\r\n",
      "ORDER BY CASE\r\n",
      "    WHEN [i].[EnumValue] = N'Pending' THEN 0\r\n",
      "    WHEN [i].[EnumValue] = N'Accepted' THEN 1\r\n",
      "    WHEN [i].[EnumValue] = N'Rejected' THEN 2\r\n",
      "    ELSE 3\r\n",
      "END\r\n"
     ]
    }
   ],
   "source": [
    "// this query demonstrate query that requires a custom order by\n",
    "// make sure to double check query generated\n",
    "// there used to be a bug with how the query was generated in\n",
    "// earlier versions of entity framework\n",
    "var query = ctx.Items\n",
    "    .Select(item => new\n",
    "    {\n",
    "        item,\n",
    "        sortIndex =\n",
    "            item.EnumValue == \"Pending\" ? 0 :\n",
    "            item.EnumValue == \"Accepted\" ? 1 :\n",
    "            item.EnumValue == \"Rejected\" ? 2 : 3\n",
    "    })\n",
    "    .OrderBy(anon => anon.sortIndex)\n",
    "    .Select(anon => anon.item);\n",
    "\n",
    "Console.WriteLine(query.ToQueryString());"
   ]
  },
  {
   "attachments": {},
   "cell_type": "markdown",
   "metadata": {},
   "source": [
    "<br><br><br><br>"
   ]
  },
  {
   "attachments": {},
   "cell_type": "markdown",
   "metadata": {},
   "source": [
    "## JOIN"
   ]
  },
  {
   "cell_type": "code",
   "execution_count": 67,
   "metadata": {
    "dotnet_interactive": {
     "language": "csharp"
    },
    "polyglot_notebook": {
     "kernelName": "csharp"
    }
   },
   "outputs": [
    {
     "name": "stdout",
     "output_type": "stream",
     "text": [
      "SELECT [i].[Name], [t].[Value]\r\n",
      "FROM [Items] AS [i]\r\n",
      "LEFT JOIN [Tags] AS [t] ON [i].[Name] = [t].[Name]\r\n"
     ]
    }
   ],
   "source": [
    "// example of left join\n",
    "var joinQuery = from item in ctx.Items\n",
    "                join tag in ctx.Tags\n",
    "                on item.Name equals tag.Name into tagged\n",
    "                from t in tagged.DefaultIfEmpty()\n",
    "                select new { item.Name, t.Value };\n",
    "\n",
    "Console.WriteLine(joinQuery.ToQueryString());"
   ]
  }
 ],
 "metadata": {
  "kernelspec": {
   "display_name": ".NET (C#)",
   "language": "C#",
   "name": ".net-csharp"
  },
  "language_info": {
   "name": "polyglot-notebook"
  },
  "polyglot_notebook": {
   "kernelInfo": {
    "defaultKernelName": "csharp",
    "items": [
     {
      "aliases": [],
      "languageName": "csharp",
      "name": "csharp"
     }
    ]
   }
  }
 },
 "nbformat": 4,
 "nbformat_minor": 2
}
