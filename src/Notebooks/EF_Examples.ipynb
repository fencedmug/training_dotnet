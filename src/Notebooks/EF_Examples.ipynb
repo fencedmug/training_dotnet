{
 "cells": [
  {
   "attachments": {},
   "cell_type": "markdown",
   "metadata": {},
   "source": [
    "# Entity Framework Core Examples\n",
    "\n",
    "Making use of notebooks to printout sql queries formed by EF\n",
    "When in doubt, make use of notebook to create EF expression and print out the query string.\n",
    "This can help when you need to optimize the query for performance.\n",
    "\n",
    "Issues:\n",
    "- \"using var ctx...\" gives error when \"using\" is used"
   ]
  },
  {
   "cell_type": "code",
   "execution_count": 1,
   "metadata": {
    "dotnet_interactive": {
     "language": "csharp"
    },
    "polyglot_notebook": {
     "kernelName": "csharp"
    },
    "vscode": {
     "languageId": "polyglot-notebook"
    }
   },
   "outputs": [
    {
     "data": {
      "text/html": [
       "<div><div></div><div></div><div><strong>Installed Packages</strong><ul><li><span>Microsoft.EntityFrameworkCore.SqlServer, 7.0.5</span></li></ul></div></div>"
      ]
     },
     "metadata": {},
     "output_type": "display_data"
    }
   ],
   "source": [
    "#r \"nuget: Microsoft.EntityFrameworkCore.SqlServer, 7.0.5\"\n",
    "\n",
    "using Microsoft.EntityFrameworkCore;\n",
    "using System;\n",
    "\n",
    "public class ItemContext : DbContext\n",
    "{\n",
    "\tpublic DbSet<Item> Items { get; set; }\n",
    "\tpublic DbSet<Tag> Tags { get; set; }\n",
    "\n",
    "\tprotected override void OnConfiguring(DbContextOptionsBuilder optionsBuilder)\n",
    "\t{\n",
    "\t\t// use a valid connection string here so the parser doesn't complain\n",
    "\t\toptionsBuilder.UseSqlServer(\"Server=(localdb)\\\\MSSQLLocalDB;Database=SomeDbName;Trusted_Connection=True\");\n",
    "\t}\n",
    "}\n",
    "\n",
    "public class Item\n",
    "{\n",
    "\tpublic int Id { get; set; }\n",
    "\tpublic string Name { get; set; } = string.Empty;\n",
    "\tpublic string Status { get; set; } = string.Empty;\n",
    "\tpublic int SomeId { get; set; }\n",
    "\tpublic DateTimeOffset Created { get; set; }\n",
    "\tpublic string EnumValue { get; set; } = string.Empty;\n",
    "}\n",
    "\n",
    "public class Tag\n",
    "{\n",
    "\tpublic int Id { get; set; }\n",
    "\tpublic string Name { get; set; } = string.Empty;\n",
    "\tpublic string Value { get; set; } = string.Empty;\n",
    "}"
   ]
  },
  {
   "attachments": {},
   "cell_type": "markdown",
   "metadata": {},
   "source": [
    "<br><br>"
   ]
  },
  {
   "attachments": {},
   "cell_type": "markdown",
   "metadata": {},
   "source": [
    "## SELECT \n",
    "Examples to show how EF forms SQL queries"
   ]
  },
  {
   "cell_type": "code",
   "execution_count": 2,
   "metadata": {
    "dotnet_interactive": {
     "language": "csharp"
    },
    "polyglot_notebook": {
     "kernelName": "csharp"
    },
    "vscode": {
     "languageId": "polyglot-notebook"
    }
   },
   "outputs": [
    {
     "name": "stdout",
     "output_type": "stream",
     "text": [
      "DECLARE @__itemId_0 int = 10;\r\n",
      "\r\n",
      "SELECT [i].[Id], [i].[Created], [i].[EnumValue], [i].[Name], [i].[SomeId], [i].[Status]\r\n",
      "FROM [Items] AS [i]\r\n",
      "WHERE [i].[Id] > @__itemId_0\r\n"
     ]
    }
   ],
   "source": [
    "var ctx = new ItemContext();\n",
    "IQueryable<Item> query = ctx.Items;\n",
    "\n",
    "// as long as we do not call ToList or FirstOrDefault\n",
    "// the following LINQ will not attempt to establish\n",
    "// connection to database defined in connection string\n",
    "\n",
    "var itemId = 10;\n",
    "query = ctx.Items.Where(item => item.Id > itemId);\n",
    "Console.WriteLine(query.ToQueryString());"
   ]
  },
  {
   "cell_type": "code",
   "execution_count": 3,
   "metadata": {
    "dotnet_interactive": {
     "language": "csharp"
    },
    "polyglot_notebook": {
     "kernelName": "csharp"
    },
    "vscode": {
     "languageId": "polyglot-notebook"
    }
   },
   "outputs": [
    {
     "name": "stdout",
     "output_type": "stream",
     "text": [
      "SELECT [i].[Id], [i].[Created], [i].[EnumValue], [i].[Name], [i].[SomeId], [i].[Status]\r\n",
      "FROM [Items] AS [i]\r\n",
      "WHERE [i].[Id] > 10\r\n"
     ]
    }
   ],
   "source": [
    "// when we use raw values in the expression, we do not get parameterized queries\n",
    "// compare with the following:\n",
    "query = ctx.Items.Where(item => item.Id > 10);\n",
    "Console.WriteLine(query.ToQueryString());"
   ]
  },
  {
   "cell_type": "code",
   "execution_count": 4,
   "metadata": {
    "dotnet_interactive": {
     "language": "csharp"
    },
    "polyglot_notebook": {
     "kernelName": "csharp"
    },
    "vscode": {
     "languageId": "polyglot-notebook"
    }
   },
   "outputs": [
    {
     "name": "stdout",
     "output_type": "stream",
     "text": [
      "DECLARE @__nameToMatch_0 nvarchar(4000) = N'HELLO WORLD';\r\n",
      "\r\n",
      "SELECT [i].[Id], [i].[Created], [i].[EnumValue], [i].[Name], [i].[SomeId], [i].[Status]\r\n",
      "FROM [Items] AS [i]\r\n",
      "WHERE (@__nameToMatch_0 LIKE N'') OR CHARINDEX(@__nameToMatch_0, UPPER([i].[Name])) > 0\r\n"
     ]
    }
   ],
   "source": [
    "var nameToMatch = \"HELLO WORLD\";\n",
    "query = ctx.Items.Where(item => item.Name.ToUpper().Contains(nameToMatch));\n",
    "Console.WriteLine(query.ToQueryString());"
   ]
  },
  {
   "cell_type": "code",
   "execution_count": 5,
   "metadata": {
    "dotnet_interactive": {
     "language": "csharp"
    },
    "polyglot_notebook": {
     "kernelName": "csharp"
    },
    "vscode": {
     "languageId": "polyglot-notebook"
    }
   },
   "outputs": [
    {
     "name": "stdout",
     "output_type": "stream",
     "text": [
      "DECLARE @___itemId_0 int = 10;\r\n",
      "\r\n",
      "SELECT [i].[Id], [i].[Created], [i].[EnumValue], [i].[Name], [i].[SomeId], [i].[Status]\r\n",
      "FROM [Items] AS [i]\r\n",
      "WHERE [i].[Created] < CAST(GETDATE() AS datetimeoffset) AND [i].[Id] = @___itemId_0\r\n"
     ]
    }
   ],
   "source": [
    "query = ctx.Items.Where(item => item.Created < DateTime.Now && item.Id == itemId);\n",
    "Console.WriteLine(query.ToQueryString());"
   ]
  },
  {
   "cell_type": "code",
   "execution_count": 6,
   "metadata": {
    "dotnet_interactive": {
     "language": "csharp"
    },
    "polyglot_notebook": {
     "kernelName": "csharp"
    },
    "vscode": {
     "languageId": "polyglot-notebook"
    }
   },
   "outputs": [
    {
     "name": "stdout",
     "output_type": "stream",
     "text": [
      "SELECT [i].[Id], [i].[Created], [i].[EnumValue], [i].[Name], [i].[SomeId], [i].[Status]\r\n",
      "FROM [Items] AS [i]\r\n",
      "WHERE [i].[Created] < CAST(GETDATE() AS datetimeoffset) AND [i].[Id] = 300\r\n"
     ]
    }
   ],
   "source": [
    "// break up Where clauses -> doesn't seem to affect SQL generated\n",
    "query = ctx.Items.Where(item => item.Created < DateTime.Now).Where(item => item.Id == 300);\n",
    "Console.WriteLine(query.ToQueryString());"
   ]
  },
  {
   "attachments": {},
   "cell_type": "markdown",
   "metadata": {},
   "source": [
    "This example shows why it's a bad idea to use a large collection with Contains(...)"
   ]
  },
  {
   "cell_type": "code",
   "execution_count": 7,
   "metadata": {
    "dotnet_interactive": {
     "language": "csharp"
    },
    "polyglot_notebook": {
     "kernelName": "csharp"
    },
    "vscode": {
     "languageId": "polyglot-notebook"
    }
   },
   "outputs": [
    {
     "name": "stdout",
     "output_type": "stream",
     "text": [
      "SELECT [i].[Id], [i].[Created], [i].[EnumValue], [i].[Name], [i].[SomeId], [i].[Status]\r\n",
      "FROM [Items] AS [i]\r\n",
      "WHERE [i].[Name] IN (N'1', N'2', N'3', N'4', N'5', N'6', N'7', N'8', N'9', N'10', N'11', N'12', N'13', N'14', N'15', N'16', N'17', N'18', N'19', N'20', N'21', N'22', N'23', N'24', N'25', N'26', N'27', N'28', N'29', N'30', N'31', N'32', N'33', N'34', N'35', N'36', N'37', N'38', N'39', N'40', N'41', N'42', N'43', N'44', N'45', N'46', N'47', N'48', N'49', N'50', N'51', N'52', N'53', N'54', N'55', N'56', N'57', N'58', N'59', N'60', N'61', N'62', N'63', N'64', N'65', N'66', N'67', N'68', N'69', N'70', N'71', N'72', N'73', N'74', N'75', N'76', N'77', N'78', N'79', N'80', N'81', N'82', N'83', N'84', N'85', N'86', N'87', N'88', N'89', N'90', N'91', N'92', N'93', N'94', N'95', N'96', N'97', N'98', N'99', N'100', N'101', N'102', N'103', N'104', N'105', N'106', N'107', N'108', N'109', N'110', N'111', N'112', N'113', N'114', N'115', N'116', N'117', N'118', N'119', N'120', N'121', N'122', N'123', N'124', N'125', N'126', N'127', N'128', N'129', N'130', N'131', N'132', N'133', N'134', N'135', N'136', N'137', N'138', N'139', N'140', N'141', N'142', N'143', N'144', N'145', N'146', N'147', N'148', N'149', N'150', N'151', N'152', N'153', N'154', N'155', N'156', N'157', N'158', N'159', N'160', N'161', N'162', N'163', N'164', N'165', N'166', N'167', N'168', N'169', N'170', N'171', N'172', N'173', N'174', N'175', N'176', N'177', N'178', N'179', N'180', N'181', N'182', N'183', N'184', N'185', N'186', N'187', N'188', N'189', N'190', N'191', N'192', N'193', N'194', N'195', N'196', N'197', N'198', N'199', N'200', N'201', N'202', N'203', N'204', N'205', N'206', N'207', N'208', N'209', N'210', N'211', N'212', N'213', N'214', N'215', N'216', N'217', N'218', N'219', N'220', N'221', N'222', N'223', N'224', N'225', N'226', N'227', N'228', N'229', N'230', N'231', N'232', N'233', N'234', N'235', N'236', N'237', N'238', N'239', N'240', N'241', N'242', N'243', N'244', N'245', N'246', N'247', N'248', N'249', N'250', N'251', N'252', N'253', N'254', N'255', N'256', N'257', N'258', N'259', N'260', N'261', N'262', N'263', N'264', N'265', N'266', N'267', N'268', N'269', N'270', N'271', N'272', N'273', N'274', N'275', N'276', N'277', N'278', N'279', N'280', N'281', N'282', N'283', N'284', N'285', N'286', N'287', N'288', N'289', N'290', N'291', N'292', N'293', N'294', N'295', N'296', N'297', N'298', N'299', N'300', N'301', N'302', N'303', N'304', N'305', N'306', N'307', N'308', N'309', N'310', N'311', N'312', N'313', N'314', N'315', N'316', N'317', N'318', N'319', N'320', N'321', N'322', N'323', N'324', N'325', N'326', N'327', N'328', N'329', N'330', N'331', N'332', N'333', N'334', N'335', N'336', N'337', N'338', N'339', N'340', N'341', N'342', N'343', N'344', N'345', N'346', N'347', N'348', N'349', N'350', N'351', N'352', N'353', N'354', N'355', N'356', N'357', N'358', N'359', N'360', N'361', N'362', N'363', N'364', N'365', N'366', N'367', N'368', N'369', N'370', N'371', N'372', N'373', N'374', N'375', N'376', N'377', N'378', N'379', N'380', N'381', N'382', N'383', N'384', N'385', N'386', N'387', N'388', N'389', N'390', N'391', N'392', N'393', N'394', N'395', N'396', N'397', N'398', N'399', N'400', N'401', N'402', N'403', N'404', N'405', N'406', N'407', N'408', N'409', N'410', N'411', N'412', N'413', N'414', N'415', N'416', N'417', N'418', N'419', N'420', N'421', N'422', N'423', N'424', N'425', N'426', N'427', N'428', N'429', N'430', N'431', N'432', N'433', N'434', N'435', N'436', N'437', N'438', N'439', N'440', N'441', N'442', N'443', N'444', N'445', N'446', N'447', N'448', N'449', N'450', N'451', N'452', N'453', N'454', N'455', N'456', N'457', N'458', N'459', N'460', N'461', N'462', N'463', N'464', N'465', N'466', N'467', N'468', N'469', N'470', N'471', N'472', N'473', N'474', N'475', N'476', N'477', N'478', N'479', N'480', N'481', N'482', N'483', N'484', N'485', N'486', N'487', N'488', N'489', N'490', N'491', N'492', N'493', N'494', N'495', N'496', N'497', N'498', N'499', N'500', N'501', N'502', N'503', N'504', N'505', N'506', N'507', N'508', N'509', N'510', N'511', N'512', N'513', N'514', N'515', N'516', N'517', N'518', N'519', N'520', N'521', N'522', N'523', N'524', N'525', N'526', N'527', N'528', N'529', N'530', N'531', N'532', N'533', N'534', N'535', N'536', N'537', N'538', N'539', N'540', N'541', N'542', N'543', N'544', N'545', N'546', N'547', N'548', N'549', N'550', N'551', N'552', N'553', N'554', N'555', N'556', N'557', N'558', N'559', N'560', N'561', N'562', N'563', N'564', N'565', N'566', N'567', N'568', N'569', N'570', N'571', N'572', N'573', N'574', N'575', N'576', N'577', N'578', N'579', N'580', N'581', N'582', N'583', N'584', N'585', N'586', N'587', N'588', N'589', N'590', N'591', N'592', N'593', N'594', N'595', N'596', N'597', N'598', N'599', N'600', N'601', N'602', N'603', N'604', N'605', N'606', N'607', N'608', N'609', N'610', N'611', N'612', N'613', N'614', N'615', N'616', N'617', N'618', N'619', N'620', N'621', N'622', N'623', N'624', N'625', N'626', N'627', N'628', N'629', N'630', N'631', N'632', N'633', N'634', N'635', N'636', N'637', N'638', N'639', N'640', N'641', N'642', N'643', N'644', N'645', N'646', N'647', N'648', N'649', N'650', N'651', N'652', N'653', N'654', N'655', N'656', N'657', N'658', N'659', N'660', N'661', N'662', N'663', N'664', N'665', N'666', N'667', N'668', N'669', N'670', N'671', N'672', N'673', N'674', N'675', N'676', N'677', N'678', N'679', N'680', N'681', N'682', N'683', N'684', N'685', N'686', N'687', N'688', N'689', N'690', N'691', N'692', N'693', N'694', N'695', N'696', N'697', N'698', N'699', N'700', N'701', N'702', N'703', N'704', N'705', N'706', N'707', N'708', N'709', N'710', N'711', N'712', N'713', N'714', N'715', N'716', N'717', N'718', N'719', N'720', N'721', N'722', N'723', N'724', N'725', N'726', N'727', N'728', N'729', N'730', N'731', N'732', N'733', N'734', N'735', N'736', N'737', N'738', N'739', N'740', N'741', N'742', N'743', N'744', N'745', N'746', N'747', N'748', N'749', N'750', N'751', N'752', N'753', N'754', N'755', N'756', N'757', N'758', N'759', N'760', N'761', N'762', N'763', N'764', N'765', N'766', N'767', N'768', N'769', N'770', N'771', N'772', N'773', N'774', N'775', N'776', N'777', N'778', N'779', N'780', N'781', N'782', N'783', N'784', N'785', N'786', N'787', N'788', N'789', N'790', N'791', N'792', N'793', N'794', N'795', N'796', N'797', N'798', N'799', N'800', N'801', N'802', N'803', N'804', N'805', N'806', N'807', N'808', N'809', N'810', N'811', N'812', N'813', N'814', N'815', N'816', N'817', N'818', N'819', N'820', N'821', N'822', N'823', N'824', N'825', N'826', N'827', N'828', N'829', N'830', N'831', N'832', N'833', N'834', N'835', N'836', N'837', N'838', N'839', N'840', N'841', N'842', N'843', N'844', N'845', N'846', N'847', N'848', N'849', N'850', N'851', N'852', N'853', N'854', N'855', N'856', N'857', N'858', N'859', N'860', N'861', N'862', N'863', N'864', N'865', N'866', N'867', N'868', N'869', N'870', N'871', N'872', N'873', N'874', N'875', N'876', N'877', N'878', N'879', N'880', N'881', N'882', N'883', N'884', N'885', N'886', N'887', N'888', N'889', N'890', N'891', N'892', N'893', N'894', N'895', N'896', N'897', N'898', N'899', N'900', N'901', N'902', N'903', N'904', N'905', N'906', N'907', N'908', N'909', N'910', N'911', N'912', N'913', N'914', N'915', N'916', N'917', N'918', N'919', N'920', N'921', N'922', N'923', N'924', N'925', N'926', N'927', N'928', N'929', N'930', N'931', N'932', N'933', N'934', N'935', N'936', N'937', N'938', N'939', N'940', N'941', N'942', N'943', N'944', N'945', N'946', N'947', N'948', N'949', N'950', N'951', N'952', N'953', N'954', N'955', N'956', N'957', N'958', N'959', N'960', N'961', N'962', N'963', N'964', N'965', N'966', N'967', N'968', N'969', N'970', N'971', N'972', N'973', N'974', N'975', N'976', N'977', N'978', N'979', N'980', N'981', N'982', N'983', N'984', N'985', N'986', N'987', N'988', N'989', N'990', N'991', N'992', N'993', N'994', N'995', N'996', N'997', N'998', N'999', N'1000')\r\n"
     ]
    }
   ],
   "source": [
    "var list = Enumerable.Range(1, 1000).Select(x => x.ToString());\n",
    "query = ctx.Items.Where(item => list.Contains(item.Name));\n",
    "Console.WriteLine(query.ToQueryString());"
   ]
  },
  {
   "cell_type": "code",
   "execution_count": 8,
   "metadata": {
    "dotnet_interactive": {
     "language": "csharp"
    },
    "polyglot_notebook": {
     "kernelName": "csharp"
    },
    "vscode": {
     "languageId": "polyglot-notebook"
    }
   },
   "outputs": [
    {
     "name": "stdout",
     "output_type": "stream",
     "text": [
      "DECLARE p0 nvarchar(max) = N'[\"1\",\"2\",\"3\",\"4\",\"5\",\"6\",\"7\",\"8\",\"9\",\"10\",\"11\",\"12\",\"13\",\"14\",\"15\",\"16\",\"17\",\"18\",\"19\",\"20\",\"21\",\"22\",\"23\",\"24\",\"25\",\"26\",\"27\",\"28\",\"29\",\"30\",\"31\",\"32\",\"33\",\"34\",\"35\",\"36\",\"37\",\"38\",\"39\",\"40\",\"41\",\"42\",\"43\",\"44\",\"45\",\"46\",\"47\",\"48\",\"49\",\"50\",\"51\",\"52\",\"53\",\"54\",\"55\",\"56\",\"57\",\"58\",\"59\",\"60\",\"61\",\"62\",\"63\",\"64\",\"65\",\"66\",\"67\",\"68\",\"69\",\"70\",\"71\",\"72\",\"73\",\"74\",\"75\",\"76\",\"77\",\"78\",\"79\",\"80\",\"81\",\"82\",\"83\",\"84\",\"85\",\"86\",\"87\",\"88\",\"89\",\"90\",\"91\",\"92\",\"93\",\"94\",\"95\",\"96\",\"97\",\"98\",\"99\",\"100\",\"101\",\"102\",\"103\",\"104\",\"105\",\"106\",\"107\",\"108\",\"109\",\"110\",\"111\",\"112\",\"113\",\"114\",\"115\",\"116\",\"117\",\"118\",\"119\",\"120\",\"121\",\"122\",\"123\",\"124\",\"125\",\"126\",\"127\",\"128\",\"129\",\"130\",\"131\",\"132\",\"133\",\"134\",\"135\",\"136\",\"137\",\"138\",\"139\",\"140\",\"141\",\"142\",\"143\",\"144\",\"145\",\"146\",\"147\",\"148\",\"149\",\"150\",\"151\",\"152\",\"153\",\"154\",\"155\",\"156\",\"157\",\"158\",\"159\",\"160\",\"161\",\"162\",\"163\",\"164\",\"165\",\"166\",\"167\",\"168\",\"169\",\"170\",\"171\",\"172\",\"173\",\"174\",\"175\",\"176\",\"177\",\"178\",\"179\",\"180\",\"181\",\"182\",\"183\",\"184\",\"185\",\"186\",\"187\",\"188\",\"189\",\"190\",\"191\",\"192\",\"193\",\"194\",\"195\",\"196\",\"197\",\"198\",\"199\",\"200\",\"201\",\"202\",\"203\",\"204\",\"205\",\"206\",\"207\",\"208\",\"209\",\"210\",\"211\",\"212\",\"213\",\"214\",\"215\",\"216\",\"217\",\"218\",\"219\",\"220\",\"221\",\"222\",\"223\",\"224\",\"225\",\"226\",\"227\",\"228\",\"229\",\"230\",\"231\",\"232\",\"233\",\"234\",\"235\",\"236\",\"237\",\"238\",\"239\",\"240\",\"241\",\"242\",\"243\",\"244\",\"245\",\"246\",\"247\",\"248\",\"249\",\"250\",\"251\",\"252\",\"253\",\"254\",\"255\",\"256\",\"257\",\"258\",\"259\",\"260\",\"261\",\"262\",\"263\",\"264\",\"265\",\"266\",\"267\",\"268\",\"269\",\"270\",\"271\",\"272\",\"273\",\"274\",\"275\",\"276\",\"277\",\"278\",\"279\",\"280\",\"281\",\"282\",\"283\",\"284\",\"285\",\"286\",\"287\",\"288\",\"289\",\"290\",\"291\",\"292\",\"293\",\"294\",\"295\",\"296\",\"297\",\"298\",\"299\",\"300\",\"301\",\"302\",\"303\",\"304\",\"305\",\"306\",\"307\",\"308\",\"309\",\"310\",\"311\",\"312\",\"313\",\"314\",\"315\",\"316\",\"317\",\"318\",\"319\",\"320\",\"321\",\"322\",\"323\",\"324\",\"325\",\"326\",\"327\",\"328\",\"329\",\"330\",\"331\",\"332\",\"333\",\"334\",\"335\",\"336\",\"337\",\"338\",\"339\",\"340\",\"341\",\"342\",\"343\",\"344\",\"345\",\"346\",\"347\",\"348\",\"349\",\"350\",\"351\",\"352\",\"353\",\"354\",\"355\",\"356\",\"357\",\"358\",\"359\",\"360\",\"361\",\"362\",\"363\",\"364\",\"365\",\"366\",\"367\",\"368\",\"369\",\"370\",\"371\",\"372\",\"373\",\"374\",\"375\",\"376\",\"377\",\"378\",\"379\",\"380\",\"381\",\"382\",\"383\",\"384\",\"385\",\"386\",\"387\",\"388\",\"389\",\"390\",\"391\",\"392\",\"393\",\"394\",\"395\",\"396\",\"397\",\"398\",\"399\",\"400\",\"401\",\"402\",\"403\",\"404\",\"405\",\"406\",\"407\",\"408\",\"409\",\"410\",\"411\",\"412\",\"413\",\"414\",\"415\",\"416\",\"417\",\"418\",\"419\",\"420\",\"421\",\"422\",\"423\",\"424\",\"425\",\"426\",\"427\",\"428\",\"429\",\"430\",\"431\",\"432\",\"433\",\"434\",\"435\",\"436\",\"437\",\"438\",\"439\",\"440\",\"441\",\"442\",\"443\",\"444\",\"445\",\"446\",\"447\",\"448\",\"449\",\"450\",\"451\",\"452\",\"453\",\"454\",\"455\",\"456\",\"457\",\"458\",\"459\",\"460\",\"461\",\"462\",\"463\",\"464\",\"465\",\"466\",\"467\",\"468\",\"469\",\"470\",\"471\",\"472\",\"473\",\"474\",\"475\",\"476\",\"477\",\"478\",\"479\",\"480\",\"481\",\"482\",\"483\",\"484\",\"485\",\"486\",\"487\",\"488\",\"489\",\"490\",\"491\",\"492\",\"493\",\"494\",\"495\",\"496\",\"497\",\"498\",\"499\",\"500\",\"501\",\"502\",\"503\",\"504\",\"505\",\"506\",\"507\",\"508\",\"509\",\"510\",\"511\",\"512\",\"513\",\"514\",\"515\",\"516\",\"517\",\"518\",\"519\",\"520\",\"521\",\"522\",\"523\",\"524\",\"525\",\"526\",\"527\",\"528\",\"529\",\"530\",\"531\",\"532\",\"533\",\"534\",\"535\",\"536\",\"537\",\"538\",\"539\",\"540\",\"541\",\"542\",\"543\",\"544\",\"545\",\"546\",\"547\",\"548\",\"549\",\"550\",\"551\",\"552\",\"553\",\"554\",\"555\",\"556\",\"557\",\"558\",\"559\",\"560\",\"561\",\"562\",\"563\",\"564\",\"565\",\"566\",\"567\",\"568\",\"569\",\"570\",\"571\",\"572\",\"573\",\"574\",\"575\",\"576\",\"577\",\"578\",\"579\",\"580\",\"581\",\"582\",\"583\",\"584\",\"585\",\"586\",\"587\",\"588\",\"589\",\"590\",\"591\",\"592\",\"593\",\"594\",\"595\",\"596\",\"597\",\"598\",\"599\",\"600\",\"601\",\"602\",\"603\",\"604\",\"605\",\"606\",\"607\",\"608\",\"609\",\"610\",\"611\",\"612\",\"613\",\"614\",\"615\",\"616\",\"617\",\"618\",\"619\",\"620\",\"621\",\"622\",\"623\",\"624\",\"625\",\"626\",\"627\",\"628\",\"629\",\"630\",\"631\",\"632\",\"633\",\"634\",\"635\",\"636\",\"637\",\"638\",\"639\",\"640\",\"641\",\"642\",\"643\",\"644\",\"645\",\"646\",\"647\",\"648\",\"649\",\"650\",\"651\",\"652\",\"653\",\"654\",\"655\",\"656\",\"657\",\"658\",\"659\",\"660\",\"661\",\"662\",\"663\",\"664\",\"665\",\"666\",\"667\",\"668\",\"669\",\"670\",\"671\",\"672\",\"673\",\"674\",\"675\",\"676\",\"677\",\"678\",\"679\",\"680\",\"681\",\"682\",\"683\",\"684\",\"685\",\"686\",\"687\",\"688\",\"689\",\"690\",\"691\",\"692\",\"693\",\"694\",\"695\",\"696\",\"697\",\"698\",\"699\",\"700\",\"701\",\"702\",\"703\",\"704\",\"705\",\"706\",\"707\",\"708\",\"709\",\"710\",\"711\",\"712\",\"713\",\"714\",\"715\",\"716\",\"717\",\"718\",\"719\",\"720\",\"721\",\"722\",\"723\",\"724\",\"725\",\"726\",\"727\",\"728\",\"729\",\"730\",\"731\",\"732\",\"733\",\"734\",\"735\",\"736\",\"737\",\"738\",\"739\",\"740\",\"741\",\"742\",\"743\",\"744\",\"745\",\"746\",\"747\",\"748\",\"749\",\"750\",\"751\",\"752\",\"753\",\"754\",\"755\",\"756\",\"757\",\"758\",\"759\",\"760\",\"761\",\"762\",\"763\",\"764\",\"765\",\"766\",\"767\",\"768\",\"769\",\"770\",\"771\",\"772\",\"773\",\"774\",\"775\",\"776\",\"777\",\"778\",\"779\",\"780\",\"781\",\"782\",\"783\",\"784\",\"785\",\"786\",\"787\",\"788\",\"789\",\"790\",\"791\",\"792\",\"793\",\"794\",\"795\",\"796\",\"797\",\"798\",\"799\",\"800\",\"801\",\"802\",\"803\",\"804\",\"805\",\"806\",\"807\",\"808\",\"809\",\"810\",\"811\",\"812\",\"813\",\"814\",\"815\",\"816\",\"817\",\"818\",\"819\",\"820\",\"821\",\"822\",\"823\",\"824\",\"825\",\"826\",\"827\",\"828\",\"829\",\"830\",\"831\",\"832\",\"833\",\"834\",\"835\",\"836\",\"837\",\"838\",\"839\",\"840\",\"841\",\"842\",\"843\",\"844\",\"845\",\"846\",\"847\",\"848\",\"849\",\"850\",\"851\",\"852\",\"853\",\"854\",\"855\",\"856\",\"857\",\"858\",\"859\",\"860\",\"861\",\"862\",\"863\",\"864\",\"865\",\"866\",\"867\",\"868\",\"869\",\"870\",\"871\",\"872\",\"873\",\"874\",\"875\",\"876\",\"877\",\"878\",\"879\",\"880\",\"881\",\"882\",\"883\",\"884\",\"885\",\"886\",\"887\",\"888\",\"889\",\"890\",\"891\",\"892\",\"893\",\"894\",\"895\",\"896\",\"897\",\"898\",\"899\",\"900\",\"901\",\"902\",\"903\",\"904\",\"905\",\"906\",\"907\",\"908\",\"909\",\"910\",\"911\",\"912\",\"913\",\"914\",\"915\",\"916\",\"917\",\"918\",\"919\",\"920\",\"921\",\"922\",\"923\",\"924\",\"925\",\"926\",\"927\",\"928\",\"929\",\"930\",\"931\",\"932\",\"933\",\"934\",\"935\",\"936\",\"937\",\"938\",\"939\",\"940\",\"941\",\"942\",\"943\",\"944\",\"945\",\"946\",\"947\",\"948\",\"949\",\"950\",\"951\",\"952\",\"953\",\"954\",\"955\",\"956\",\"957\",\"958\",\"959\",\"960\",\"961\",\"962\",\"963\",\"964\",\"965\",\"966\",\"967\",\"968\",\"969\",\"970\",\"971\",\"972\",\"973\",\"974\",\"975\",\"976\",\"977\",\"978\",\"979\",\"980\",\"981\",\"982\",\"983\",\"984\",\"985\",\"986\",\"987\",\"988\",\"989\",\"990\",\"991\",\"992\",\"993\",\"994\",\"995\",\"996\",\"997\",\"998\",\"999\",\"1000\"]';\r\n",
      "\r\n",
      "SELECT * FROM [Items] where [Items].Name IN (SELECT VALUE FROM OPENJSON(@p0))\r\n",
      "\r\n"
     ]
    }
   ],
   "source": [
    "// test it out before using in prod\n",
    "// this might be an improvement because the list is parameterized\n",
    "// see https://stackoverflow.com/questions/58883887/in-operator-with-a-very-large-list-is-too-slow-in-sql-server-what-should-i-use?rq=3\n",
    "var list = Enumerable.Range(1, 1000).Select(x => x.ToString());\n",
    "var numbers = System.Text.Json.JsonSerializer.Serialize(list);\n",
    "query = ctx.Items\n",
    "  .FromSql($\"SELECT * FROM [Items] where [Items].Name IN (SELECT VALUE FROM OPENJSON({numbers}))\");\n",
    "Console.WriteLine(query.ToQueryString());"
   ]
  },
  {
   "attachments": {},
   "cell_type": "markdown",
   "metadata": {},
   "source": [
    "<br><br>"
   ]
  },
  {
   "attachments": {},
   "cell_type": "markdown",
   "metadata": {},
   "source": [
    "## SELECT + DISTINCT + ORDER BY"
   ]
  },
  {
   "cell_type": "code",
   "execution_count": 9,
   "metadata": {
    "dotnet_interactive": {
     "language": "csharp"
    },
    "polyglot_notebook": {
     "kernelName": "csharp"
    },
    "vscode": {
     "languageId": "polyglot-notebook"
    }
   },
   "outputs": [
    {
     "name": "stdout",
     "output_type": "stream",
     "text": [
      "Wrong ORDER BY + DISTINCT -- the ORDER BY is missing in SQL query\n",
      "SELECT DISTINCT [i].[Name], [i].[Created]\n",
      "FROM [Items] AS [i]\n",
      "\n",
      "Correct DISTINCT + ORDER BY -- looks more complicated but ORDER BY is observed in SQL query\n",
      "SELECT [t].[Name], [t].[Created]\n",
      "FROM (\n",
      "    SELECT DISTINCT [i].[Name], [i].[Created]\n",
      "    FROM [Items] AS [i]\n",
      ") AS [t]\n",
      "ORDER BY [t].[Created]\n"
     ]
    }
   ],
   "source": [
    "// if we have logging framework added, entity framework\n",
    "// will complain about the calling order of Distinct + OrderBy\n",
    "// the generated query will not show \"ORDER BY\"\n",
    "var wrongQuery = ctx.Items\n",
    "    .Select(item => new { item.Name, item.Created })\n",
    "    .OrderBy(it => it.Created)\n",
    "    .Distinct();\n",
    "\n",
    "Console.WriteLine(\"Wrong ORDER BY + DISTINCT -- the ORDER BY is missing in SQL query\");\n",
    "Console.WriteLine(wrongQuery.ToQueryString());\n",
    "Console.WriteLine();\n",
    "\n",
    "// the SQL generated will show \"ORDER BY\" but\n",
    "// as of Mar 2023, the generated SQL doesn't seem to be \"right\"\n",
    "// the following would look more \"right\"\n",
    "// SELECT DISTINCT ...\n",
    "// FROM TABLE\n",
    "// ORDER BY Created\n",
    "var correctQuery = ctx.Items\n",
    "    .Select(item => new { item.Name, item.Created })\n",
    "    .Distinct()\n",
    "    .OrderBy(it => it.Created);\n",
    "\n",
    "Console.WriteLine(\"Correct DISTINCT + ORDER BY -- looks more complicated but ORDER BY is observed in SQL query\");\n",
    "Console.WriteLine(correctQuery.ToQueryString());\n"
   ]
  },
  {
   "cell_type": "code",
   "execution_count": 10,
   "metadata": {
    "dotnet_interactive": {
     "language": "csharp"
    },
    "polyglot_notebook": {
     "kernelName": "csharp"
    },
    "vscode": {
     "languageId": "polyglot-notebook"
    }
   },
   "outputs": [
    {
     "name": "stdout",
     "output_type": "stream",
     "text": [
      "SELECT [i].[Id], [i].[Created], [i].[EnumValue], [i].[Name], [i].[SomeId], [i].[Status]\r\n",
      "FROM [Items] AS [i]\r\n",
      "ORDER BY CASE\r\n",
      "    WHEN [i].[EnumValue] = N'Pending' THEN 0\r\n",
      "    WHEN [i].[EnumValue] = N'Accepted' THEN 1\r\n",
      "    WHEN [i].[EnumValue] = N'Rejected' THEN 2\r\n",
      "    ELSE 3\r\n",
      "END\r\n"
     ]
    }
   ],
   "source": [
    "// this query demonstrate query that requires a custom order by\n",
    "// make sure to double check query generated\n",
    "// there used to be a bug with how the query was generated in\n",
    "// earlier versions of entity framework\n",
    "var query = ctx.Items\n",
    "    .Select(item => new\n",
    "    {\n",
    "        item,\n",
    "        sortIndex =\n",
    "            item.EnumValue == \"Pending\" ? 0 :\n",
    "            item.EnumValue == \"Accepted\" ? 1 :\n",
    "            item.EnumValue == \"Rejected\" ? 2 : 3\n",
    "    })\n",
    "    .OrderBy(anon => anon.sortIndex)\n",
    "    .Select(anon => anon.item);\n",
    "\n",
    "Console.WriteLine(query.ToQueryString());"
   ]
  },
  {
   "attachments": {},
   "cell_type": "markdown",
   "metadata": {},
   "source": [
    "<br><br>"
   ]
  },
  {
   "attachments": {},
   "cell_type": "markdown",
   "metadata": {},
   "source": [
    "## SKIP + TAKE"
   ]
  },
  {
   "cell_type": "code",
   "execution_count": 11,
   "metadata": {
    "dotnet_interactive": {
     "language": "csharp"
    },
    "polyglot_notebook": {
     "kernelName": "csharp"
    },
    "vscode": {
     "languageId": "polyglot-notebook"
    }
   },
   "outputs": [
    {
     "name": "stdout",
     "output_type": "stream",
     "text": [
      "DECLARE @__p_0 int = 100;\r\n",
      "DECLARE @__p_1 int = 1000;\r\n",
      "\r\n",
      "SELECT [i].[Id], [i].[Created], [i].[EnumValue], [i].[Name], [i].[SomeId], [i].[Status]\r\n",
      "FROM [Items] AS [i]\r\n",
      "ORDER BY (SELECT 1)\r\n",
      "OFFSET @__p_0 ROWS FETCH NEXT @__p_1 ROWS ONLY\r\n"
     ]
    }
   ],
   "source": [
    "// EF parameterized the raw values 100/1000\n",
    "var query = ctx.Items.Skip(100).Take(1000);\n",
    "Console.WriteLine(query.ToQueryString());"
   ]
  },
  {
   "attachments": {},
   "cell_type": "markdown",
   "metadata": {},
   "source": [
    "<br><br>"
   ]
  },
  {
   "attachments": {},
   "cell_type": "markdown",
   "metadata": {},
   "source": [
    "## JOIN"
   ]
  },
  {
   "cell_type": "code",
   "execution_count": 12,
   "metadata": {
    "dotnet_interactive": {
     "language": "csharp"
    },
    "polyglot_notebook": {
     "kernelName": "csharp"
    },
    "vscode": {
     "languageId": "polyglot-notebook"
    }
   },
   "outputs": [
    {
     "name": "stdout",
     "output_type": "stream",
     "text": [
      "SELECT [i].[Name], [t].[Value]\r\n",
      "FROM [Items] AS [i]\r\n",
      "LEFT JOIN [Tags] AS [t] ON [i].[Name] = [t].[Name]\r\n"
     ]
    }
   ],
   "source": [
    "// example of left join\n",
    "var joinQuery = from item in ctx.Items\n",
    "                join tag in ctx.Tags\n",
    "                on item.Name equals tag.Name into tagged\n",
    "                from t in tagged.DefaultIfEmpty()\n",
    "                select new { item.Name, t.Value };\n",
    "\n",
    "Console.WriteLine(joinQuery.ToQueryString());"
   ]
  }
 ],
 "metadata": {
  "kernelspec": {
   "display_name": ".NET (C#)",
   "language": "C#",
   "name": ".net-csharp"
  },
  "language_info": {
   "mimetype": "text/x-csharp",
   "name": "C#",
   "pygments_lexer": "csharp",
   "version": "8.0"
  },
  "polyglot_notebook": {
   "kernelInfo": {
    "defaultKernelName": "csharp",
    "items": [
     {
      "aliases": [],
      "languageName": "csharp",
      "name": "csharp"
     }
    ]
   }
  }
 },
 "nbformat": 4,
 "nbformat_minor": 2
}
