{
 "cells": [
  {
   "cell_type": "markdown",
   "metadata": {},
   "source": [
    "# C# Features\n",
    "\n",
    "| C#    | SDK    |\n",
    "| :---- | :----- |\n",
    "| C# 12 | .NET 8 |\n",
    "| C# 11 | .NET 7 |\n",
    "| C# 10 | .NET 6 |"
   ]
  },
  {
   "cell_type": "code",
   "execution_count": 3,
   "metadata": {
    "dotnet_interactive": {
     "language": "csharp"
    },
    "polyglot_notebook": {
     "kernelName": "csharp"
    }
   },
   "outputs": [
    {
     "name": "stdout",
     "output_type": "stream",
     "text": [
      "You running .NET CLR 8.0.0\r\n"
     ]
    }
   ],
   "source": [
    "Console.WriteLine($\"Running .NET CLR {System.Environment.Version}\");"
   ]
  },
  {
   "cell_type": "markdown",
   "metadata": {},
   "source": [
    "## C# 12\n",
    "- primary constructors\n",
    "- collection expressions\n",
    "- ref readonly parameters\n",
    "- default lambda parameters\n",
    "- alias any type\n",
    "- inline arrays\n",
    "- experimental attribute\n",
    "- interceptors (experimental)\n",
    "\n",
    "https://learn.microsoft.com/en-us/dotnet/csharp/whats-new/csharp-12\n",
    "https://learn.microsoft.com/en-us/dotnet/core/whats-new/dotnet-8"
   ]
  },
  {
   "cell_type": "code",
   "execution_count": 16,
   "metadata": {
    "dotnet_interactive": {
     "language": "csharp"
    },
    "polyglot_notebook": {
     "kernelName": "csharp"
    }
   },
   "outputs": [
    {
     "name": "stdout",
     "output_type": "stream",
     "text": [
      "Employee Id: 1\n",
      "Manager: Id: 5, Rank: assistant\n",
      "Manager: Id: 20, Rank: assistant\n",
      "Employee: 5\n"
     ]
    }
   ],
   "source": [
    "/*\n",
    "    C# 12 features\n",
    "\n",
    "    Primary constructors:\n",
    "    - parameters are auto private fields\n",
    "    - Employee's id not publicly accessible\n",
    "    - need to becareful reusing parameter names\n",
    "      - both classes have their own copies of id\n",
    "\n",
    "    convenient to avoid declaring parameters\n",
    "    might be problematic if there are multiple\n",
    "    levels of inheritance with primary constructors\n",
    "    might make it difficult to trace parameters\n",
    "*/\n",
    "\n",
    "public class Employee(int id)\n",
    "{\n",
    "    public decimal Id => id;\n",
    "\n",
    "    public override string ToString() => $\"Id: {id}\";\n",
    "}\n",
    "\n",
    "public class Manager(int id, string rank) : Employee(id)\n",
    "{\n",
    "    public string Rank => rank;\n",
    "\n",
    "    public override string ToString() => $\"Id: {id}, Rank: {rank}\";\n",
    "\n",
    "    public void ChangeId(int newId) => id = newId;\n",
    "}\n",
    "\n",
    "public class Director : Employee\n",
    "{\n",
    "    public Director(int id) : base(id)\n",
    "    {\n",
    "        // Director will not have auto private field of id\n",
    "        // Director class will reuse Employee's Id\n",
    "    }\n",
    "}\n",
    "\n",
    "Employee emp = new(1);\n",
    "// emp.Id = 5; // read only; no assignment\n",
    "Console.WriteLine($\"Employee Id: {emp.Id}\");\n",
    "\n",
    "Manager mgr = new(5, \"assistant\");\n",
    "Console.WriteLine($\"Manager: {mgr}\");\n",
    "\n",
    "// both classes separate copies of id\n",
    "// updating one doesn't change the other\n",
    "mgr.ChangeId(20);\n",
    "Console.WriteLine($\"Manager: {mgr}\");\n",
    "Employee emp2 = mgr as Employee;\n",
    "Console.WriteLine($\"Employee: {emp2.Id}\"); // still show as 5\n",
    "\n"
   ]
  },
  {
   "cell_type": "code",
   "execution_count": 20,
   "metadata": {
    "dotnet_interactive": {
     "language": "csharp"
    },
    "polyglot_notebook": {
     "kernelName": "csharp"
    }
   },
   "outputs": [
    {
     "name": "stdout",
     "output_type": "stream",
     "text": [
      "Length of combined: 6\n",
      "Combined length: 2\n",
      "Combined depth: 3\n",
      "Combined3: 1 2 3 0 2 4 6 8\n"
     ]
    }
   ],
   "source": [
    "/*\n",
    "    C# 12 features\n",
    "    \n",
    "    Collection expressions\n",
    "    - spread operator ..\n",
    "*/\n",
    "\n",
    "int[] array = [ 1, 2, 3];\n",
    "List<int> list = [1, 2, 3];\n",
    "int[] combined = [..array, ..list];\n",
    "Console.WriteLine($\"Length of combined: {combined.Length}\");\n",
    "\n",
    "// int[][] combined2d = [array, list]; // compiler complains list not correct type\n",
    "int[][] combined2d = [array, array];\n",
    "Console.WriteLine($\"Combined length: {combined2d.Length}\");\n",
    "Console.WriteLine($\"Combined depth: {combined2d[0].Length}\");\n",
    "\n",
    "// this hints that this syntax work by enumerating all values then combining into array \n",
    "// todo: check on mem allocations\n",
    "int[] combined3 = [..array, ..System.Linq.Enumerable.Range(0, 10).Where(x => x % 2 == 0)];\n",
    "Console.WriteLine($\"Combined3: {string.Join(' ', combined3)}\")\n",
    "\n"
   ]
  }
 ],
 "metadata": {
  "kernelspec": {
   "display_name": ".NET (C#)",
   "language": "C#",
   "name": ".net-csharp"
  },
  "language_info": {
   "name": "polyglot-notebook"
  },
  "polyglot_notebook": {
   "kernelInfo": {
    "defaultKernelName": "csharp",
    "items": [
     {
      "aliases": [],
      "languageName": "csharp",
      "name": "csharp"
     }
    ]
   }
  }
 },
 "nbformat": 4,
 "nbformat_minor": 2
}
