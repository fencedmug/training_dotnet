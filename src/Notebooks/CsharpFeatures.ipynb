{
 "cells": [
  {
   "cell_type": "markdown",
   "metadata": {},
   "source": [
    "# C# Features\n",
    "\n",
    "| C#    | SDK    |\n",
    "| :---- | :----- |\n",
    "| C# 12 | .NET 8 |\n",
    "| C# 11 | .NET 7 |\n",
    "| C# 10 | .NET 6 |"
   ]
  },
  {
   "cell_type": "code",
   "execution_count": 3,
   "metadata": {
    "dotnet_interactive": {
     "language": "csharp"
    },
    "polyglot_notebook": {
     "kernelName": "csharp"
    }
   },
   "outputs": [
    {
     "name": "stdout",
     "output_type": "stream",
     "text": [
      "You running .NET CLR 8.0.0\r\n"
     ]
    }
   ],
   "source": [
    "Console.WriteLine($\"Running .NET CLR {System.Environment.Version}\");"
   ]
  },
  {
   "cell_type": "markdown",
   "metadata": {},
   "source": [
    "## C# 12\n",
    "- primary constructors\n",
    "- collection expressions\n",
    "- ref readonly parameters\n",
    "- default lambda parameters\n",
    "- alias any type\n",
    "- inline arrays\n",
    "- experimental attribute\n",
    "- interceptors (experimental)\n",
    "\n",
    "https://learn.microsoft.com/en-us/dotnet/csharp/whats-new/csharp-12\n",
    "https://learn.microsoft.com/en-us/dotnet/core/whats-new/dotnet-8"
   ]
  },
  {
   "cell_type": "code",
   "execution_count": 22,
   "metadata": {
    "dotnet_interactive": {
     "language": "csharp"
    },
    "polyglot_notebook": {
     "kernelName": "csharp"
    }
   },
   "outputs": [
    {
     "name": "stdout",
     "output_type": "stream",
     "text": [
      "Employee Id: 0\n",
      "Manager: Id: 5, Rank: assistant\n",
      "Manager: Id: 20, Rank: assistant\n",
      "Employee: 0\n"
     ]
    }
   ],
   "source": [
    "\n",
    "/*\n",
    "    C# 12 features\n",
    "\n",
    "    Primary constructors:\n",
    "    - parameters are auto private fields\n",
    "    - Employee's id not publicly accessible\n",
    "    - need to becareful reusing parameter names\n",
    "      - both classes have their own copies of id\n",
    "\n",
    "    convenient to avoid declaring parameters\n",
    "    might be problematic if there are multiple\n",
    "    levels of inheritance with primary constructors\n",
    "    might make it difficult to trace parameters\n",
    "*/\n",
    "\n",
    "public class Employee(int id)\n",
    "{\n",
    "    public int Id => id;\n",
    "\n",
    "    public override string ToString() => $\"Id: {id}\";\n",
    "}\n",
    "\n",
    "public class Manager(int id, string rank) : Employee(id)\n",
    "{\n",
    "    public string Rank => rank;\n",
    "\n",
    "    public override string ToString() => $\"Id: {id}, Rank: {rank}\";\n",
    "\n",
    "    public void ChangeId(int newId) => id = newId;\n",
    "}\n",
    "\n",
    "public class Director : Employee\n",
    "{\n",
    "    public Director(int id) : base(id)\n",
    "    {\n",
    "        // Director will not have auto private field of id\n",
    "        // Director class will reuse Employee's Id\n",
    "    }\n",
    "}\n",
    "\n",
    "Employee emp = new(1);\n",
    "// emp.Id = 5; // read only; no assignment\n",
    "Console.WriteLine($\"Employee Id: {emp.Id}\");\n",
    "\n",
    "Manager mgr = new(5, \"assistant\");\n",
    "Console.WriteLine($\"Manager: {mgr}\");\n",
    "\n",
    "// both classes have their own copies of id\n",
    "// updating one doesn't change the other\n",
    "mgr.ChangeId(20);\n",
    "Console.WriteLine($\"Manager: {mgr}\");\n",
    "Employee emp2 = mgr as Employee;\n",
    "Console.WriteLine($\"Employee: {emp2.Id}\"); // still show as 5\n",
    "\n"
   ]
  },
  {
   "cell_type": "code",
   "execution_count": 20,
   "metadata": {
    "dotnet_interactive": {
     "language": "csharp"
    },
    "polyglot_notebook": {
     "kernelName": "csharp"
    }
   },
   "outputs": [
    {
     "name": "stdout",
     "output_type": "stream",
     "text": [
      "Length of combined: 6\n",
      "Combined length: 2\n",
      "Combined depth: 3\n",
      "Combined3: 1 2 3 0 2 4 6 8\n"
     ]
    }
   ],
   "source": [
    "/*\n",
    "    C# 12 features\n",
    "    \n",
    "    Collection expressions\n",
    "    - spread operator ..\n",
    "    - creating collections using collections\n",
    "*/\n",
    "\n",
    "int[] array = [ 1, 2, 3];\n",
    "List<int> list = [1, 2, 3];\n",
    "int[] combined = [..array, ..list];\n",
    "Console.WriteLine($\"Length of combined: {combined.Length}\");\n",
    "\n",
    "// int[][] combined2d = [array, list]; // compiler complains list not correct type\n",
    "int[][] combined2d = [array, array];\n",
    "Console.WriteLine($\"Combined length: {combined2d.Length}\");\n",
    "Console.WriteLine($\"Combined depth: {combined2d[0].Length}\");\n",
    "\n",
    "// this hints that this syntax work by enumerating all values then combining into array \n",
    "// todo: check on mem allocations\n",
    "int[] combined3 = [..array, ..System.Linq.Enumerable.Range(0, 10).Where(x => x % 2 == 0)];\n",
    "Console.WriteLine($\"Combined3: {string.Join(' ', combined3)}\")\n"
   ]
  },
  {
   "cell_type": "code",
   "execution_count": 10,
   "metadata": {
    "dotnet_interactive": {
     "language": "csharp"
    },
    "polyglot_notebook": {
     "kernelName": "csharp"
    }
   },
   "outputs": [
    {
     "name": "stdout",
     "output_type": "stream",
     "text": [
      "RefClass name: rc changed\r\n"
     ]
    }
   ],
   "source": [
    "/*\n",
    "    C# 12 features\n",
    "    \n",
    "    ref readonly\n",
    "    - works with value types; additionally prevent value's properties from changing\n",
    "    - reference types don't get the same safety on properties/fields\n",
    "    - tool to prevent accidental writes on parameters\n",
    "*/\n",
    "\n",
    "public class RefClass\n",
    "{\n",
    "    public string Name { get; set; } = string.Empty;\n",
    "}\n",
    "\n",
    "public struct RefStruct\n",
    "{\n",
    "    public string Name { get; set; }\n",
    "}\n",
    "\n",
    "public static void ChangeRc(ref readonly RefClass rc)\n",
    "{\n",
    "    rc.Name = \"rc changed\"; // no compiler error\n",
    "    // rc = new RefClass { Name = \"new class\" }; // compiler error\n",
    "    Console.WriteLine($\"RefClass name: {rc.Name}\");\n",
    "}\n",
    "\n",
    "public static void ChangeRs(ref readonly RefStruct rs)\n",
    "{\n",
    "    // rs.Name = \"rs changed\"; // compiler error\n",
    "    Console.WriteLine($\"RefStruct name: {rs.Name}\");\n",
    "}\n",
    "\n",
    "RefClass rc = new();\n",
    "ChangeRc(ref rc);\n",
    "//ChangeRc(ref new RefClass()); // compiler error; \"ref\" by itself already prevents this\n"
   ]
  },
  {
   "cell_type": "code",
   "execution_count": 13,
   "metadata": {
    "dotnet_interactive": {
     "language": "csharp"
    },
    "polyglot_notebook": {
     "kernelName": "csharp"
    }
   },
   "outputs": [
    {
     "name": "stdout",
     "output_type": "stream",
     "text": [
      "Result: 2\n",
      "Result: 0\n",
      "Result: 0\n",
      "Words: hello,world\n"
     ]
    }
   ],
   "source": [
    "/*\n",
    "    C# 12 features\n",
    "    \n",
    "    default lambda parameters\n",
    "    - improved lambda's dev experienced\n",
    "    - default values for input parameters\n",
    "*/\n",
    "\n",
    "var lambcha = (int x, int y = 0) => \n",
    "{\n",
    "    return x * y;\n",
    "};\n",
    "\n",
    "var lambyar = (params string[] words) => \n",
    "{\n",
    "    // just an example, not safe to use\n",
    "    return string.Join(words[0], words[1..]);\n",
    "};\n",
    "\n",
    "Console.WriteLine($\"Result: {lambcha(1, 2)}\");\n",
    "Console.WriteLine($\"Result: {lambcha(5)}\");\n",
    "Console.WriteLine($\"Result: {lambcha(9)}\");\n",
    "Console.WriteLine($\"Words: {lambyar(\",\", \"hello\", \"world\")}\");"
   ]
  },
  {
   "cell_type": "code",
   "execution_count": 17,
   "metadata": {
    "dotnet_interactive": {
     "language": "csharp"
    },
    "polyglot_notebook": {
     "kernelName": "csharp"
    }
   },
   "outputs": [],
   "source": [
    "/*\n",
    "    C# 12 features\n",
    "    \n",
    "    alias any type\n",
    "    - i hope this brings more good than harm...\n",
    "*/\n",
    "\n",
    "using moo = int;\n",
    "using hamster = System;\n",
    "using hamster.Linq;\n",
    "moo num = 5;\n"
   ]
  },
  {
   "cell_type": "code",
   "execution_count": 20,
   "metadata": {
    "dotnet_interactive": {
     "language": "csharp"
    },
    "polyglot_notebook": {
     "kernelName": "csharp"
    }
   },
   "outputs": [
    {
     "name": "stdout",
     "output_type": "stream",
     "text": [
      "Nums length: 10\r\n"
     ]
    }
   ],
   "source": [
    "/*\n",
    "    C# 12 features\n",
    "    \n",
    "    inline arrays\n",
    "    - seems fairly limited\n",
    "    - based on docs, the perf is similar to unsafe fixed size buffer\n",
    "    - might be suitable for certain scenarios where stackalloc/Span cannot be used easily\n",
    "*/\n",
    "\n",
    "[System.Runtime.CompilerServices.InlineArray(10)]\n",
    "public struct LargeBuf\n",
    "{\n",
    "    private int oneAndOnlyField;\n",
    "}\n",
    "\n",
    "var buf = new LargeBuf();\n",
    "// Span<int> nums = stackalloc int[10]; // compiler error\n",
    "\n",
    "public static void ShowNumsLength()\n",
    "{\n",
    "    Span<int> nums = stackalloc int[10];\n",
    "    Console.WriteLine($\"Nums length: {nums.Length}\");\n",
    "}\n",
    "\n",
    "ShowNumsLength();\n",
    "\n"
   ]
  }
 ],
 "metadata": {
  "kernelspec": {
   "display_name": ".NET (C#)",
   "language": "C#",
   "name": ".net-csharp"
  },
  "language_info": {
   "name": "polyglot-notebook"
  },
  "polyglot_notebook": {
   "kernelInfo": {
    "defaultKernelName": "csharp",
    "items": [
     {
      "aliases": [],
      "languageName": "csharp",
      "name": "csharp"
     }
    ]
   }
  }
 },
 "nbformat": 4,
 "nbformat_minor": 2
}
